{
  "nbformat": 4,
  "nbformat_minor": 0,
  "metadata": {
    "colab": {
      "provenance": [],
      "gpuType": "T4",
      "authorship_tag": "ABX9TyNebG8QL7fj0VO78QZD/8Vt",
      "include_colab_link": true
    },
    "kernelspec": {
      "name": "python3",
      "display_name": "Python 3"
    },
    "language_info": {
      "name": "python"
    },
    "accelerator": "GPU"
  },
  "cells": [
    {
      "cell_type": "markdown",
      "metadata": {
        "id": "view-in-github",
        "colab_type": "text"
      },
      "source": [
        "<a href=\"https://colab.research.google.com/github/shapi88/tensorflow_book/blob/main/05_transfer_learning_in_tensorflow_part_2_fine_tuning.ipynb\" target=\"_parent\"><img src=\"https://colab.research.google.com/assets/colab-badge.svg\" alt=\"Open In Colab\"/></a>"
      ]
    },
    {
      "cell_type": "markdown",
      "source": [
        "\n",
        "\n",
        "# Transfer Learning with TensorFlow Part 2: Fine-tuning\n"
      ],
      "metadata": {
        "id": "RQfQ3IRCHAht"
      }
    },
    {
      "cell_type": "code",
      "execution_count": 1,
      "metadata": {
        "colab": {
          "base_uri": "https://localhost:8080/"
        },
        "id": "MNBQ3PO-G6Tr",
        "outputId": "282044d8-b831-4319-af71-67be95186c2f"
      },
      "outputs": [
        {
          "output_type": "stream",
          "name": "stdout",
          "text": [
            "Mon Jun 19 10:04:54 2023       \n",
            "+-----------------------------------------------------------------------------+\n",
            "| NVIDIA-SMI 525.85.12    Driver Version: 525.85.12    CUDA Version: 12.0     |\n",
            "|-------------------------------+----------------------+----------------------+\n",
            "| GPU  Name        Persistence-M| Bus-Id        Disp.A | Volatile Uncorr. ECC |\n",
            "| Fan  Temp  Perf  Pwr:Usage/Cap|         Memory-Usage | GPU-Util  Compute M. |\n",
            "|                               |                      |               MIG M. |\n",
            "|===============================+======================+======================|\n",
            "|   0  Tesla T4            Off  | 00000000:00:04.0 Off |                    0 |\n",
            "| N/A   51C    P8    12W /  70W |      0MiB / 15360MiB |      0%      Default |\n",
            "|                               |                      |                  N/A |\n",
            "+-------------------------------+----------------------+----------------------+\n",
            "                                                                               \n",
            "+-----------------------------------------------------------------------------+\n",
            "| Processes:                                                                  |\n",
            "|  GPU   GI   CI        PID   Type   Process name                  GPU Memory |\n",
            "|        ID   ID                                                   Usage      |\n",
            "|=============================================================================|\n",
            "|  No running processes found                                                 |\n",
            "+-----------------------------------------------------------------------------+\n"
          ]
        }
      ],
      "source": [
        "# Check if we're using a GPU\n",
        "!nvidia-smi"
      ]
    },
    {
      "cell_type": "markdown",
      "source": [
        "## Creating helper functions\n",
        "\n",
        "In previous notebooks, we've created a bunch of helper functions, now we could rewrite them all, however, this is tedious.\n",
        "\n",
        "So, it's a good idea to put functions you'll want to use again in a script you can download and import into your notebooks (or elsewhere).\n",
        "\n",
        "We've done this for some of the functions we've used previously here: https://raw.githubusercontent.com/mrdbourke/tensorflow-deep-learning/main/extras/helper_functions.py"
      ],
      "metadata": {
        "id": "qCDKoZduHU46"
      }
    },
    {
      "cell_type": "code",
      "source": [
        "!wget https://raw.githubusercontent.com/mrdbourke/tensorflow-deep-learning/main/extras/helper_functions.py"
      ],
      "metadata": {
        "colab": {
          "base_uri": "https://localhost:8080/"
        },
        "id": "DuPNFgztHZMP",
        "outputId": "0d6ac5c0-038a-4794-fcd4-d9b6a3632b88"
      },
      "execution_count": 2,
      "outputs": [
        {
          "output_type": "stream",
          "name": "stdout",
          "text": [
            "--2023-06-19 10:05:15--  https://raw.githubusercontent.com/mrdbourke/tensorflow-deep-learning/main/extras/helper_functions.py\n",
            "Resolving raw.githubusercontent.com (raw.githubusercontent.com)... 185.199.108.133, 185.199.110.133, 185.199.109.133, ...\n",
            "Connecting to raw.githubusercontent.com (raw.githubusercontent.com)|185.199.108.133|:443... connected.\n",
            "HTTP request sent, awaiting response... 200 OK\n",
            "Length: 10246 (10K) [text/plain]\n",
            "Saving to: ‘helper_functions.py’\n",
            "\n",
            "\rhelper_functions.py   0%[                    ]       0  --.-KB/s               \rhelper_functions.py 100%[===================>]  10.01K  --.-KB/s    in 0s      \n",
            "\n",
            "2023-06-19 10:05:15 (116 MB/s) - ‘helper_functions.py’ saved [10246/10246]\n",
            "\n"
          ]
        }
      ]
    },
    {
      "cell_type": "code",
      "source": [
        "# Import helper functions we're going to use in this notebook\n",
        "from helper_functions import create_tensorboard_callback, plot_loss_curves, unzip_data, walk_through_dir"
      ],
      "metadata": {
        "id": "uCE0JuGFHda2"
      },
      "execution_count": 4,
      "outputs": []
    },
    {
      "cell_type": "markdown",
      "source": [
        "**🔑 Note:** If you're running this notebook in Google Colab, when it times out Colab will delete helper_functions.py, so you'll have to redownload it if you want access to your helper functions."
      ],
      "metadata": {
        "id": "KVMYTL8vHh5X"
      }
    },
    {
      "cell_type": "markdown",
      "source": [
        "## Let's get some data\n",
        "\n",
        "This time we're going to see how we can use the pretrained models within tf.keras.applications and apply them to our own problem (recognizing images of food).\n",
        "\n",
        "link: https://www.tensorflow.org/api_docs/python/tf/keras/applications"
      ],
      "metadata": {
        "id": "Ay4-kEpCHnIS"
      }
    },
    {
      "cell_type": "code",
      "source": [
        "# Get 10% of training data of 10 classes of Food101\n",
        "!wget https://storage.googleapis.com/ztm_tf_course/food_vision/10_food_classes_10_percent.zip\n",
        "\n",
        "unzip_data(\"10_food_classes_10_percent.zip\")"
      ],
      "metadata": {
        "colab": {
          "base_uri": "https://localhost:8080/"
        },
        "id": "FD1P2H7qHfbT",
        "outputId": "3adf6028-a65e-4662-b9a8-6e5e2998bba8"
      },
      "execution_count": 5,
      "outputs": [
        {
          "output_type": "stream",
          "name": "stdout",
          "text": [
            "--2023-06-19 10:06:34--  https://storage.googleapis.com/ztm_tf_course/food_vision/10_food_classes_10_percent.zip\n",
            "Resolving storage.googleapis.com (storage.googleapis.com)... 142.251.111.128, 142.251.167.128, 142.251.163.128, ...\n",
            "Connecting to storage.googleapis.com (storage.googleapis.com)|142.251.111.128|:443... connected.\n",
            "HTTP request sent, awaiting response... 200 OK\n",
            "Length: 168546183 (161M) [application/zip]\n",
            "Saving to: ‘10_food_classes_10_percent.zip’\n",
            "\n",
            "10_food_classes_10_ 100%[===================>] 160.74M   242MB/s    in 0.7s    \n",
            "\n",
            "2023-06-19 10:06:35 (242 MB/s) - ‘10_food_classes_10_percent.zip’ saved [168546183/168546183]\n",
            "\n"
          ]
        }
      ]
    },
    {
      "cell_type": "code",
      "source": [
        "# Check out how many images and subdirectories are in our dataset\n",
        "walk_through_dir(\"10_food_classes_10_percent\")"
      ],
      "metadata": {
        "colab": {
          "base_uri": "https://localhost:8080/"
        },
        "id": "FIzNDrosHud7",
        "outputId": "497022a2-2223-448b-9973-763a395899f4"
      },
      "execution_count": 6,
      "outputs": [
        {
          "output_type": "stream",
          "name": "stdout",
          "text": [
            "There are 2 directories and 0 images in '10_food_classes_10_percent'.\n",
            "There are 10 directories and 0 images in '10_food_classes_10_percent/train'.\n",
            "There are 0 directories and 75 images in '10_food_classes_10_percent/train/chicken_curry'.\n",
            "There are 0 directories and 75 images in '10_food_classes_10_percent/train/ice_cream'.\n",
            "There are 0 directories and 75 images in '10_food_classes_10_percent/train/sushi'.\n",
            "There are 0 directories and 75 images in '10_food_classes_10_percent/train/hamburger'.\n",
            "There are 0 directories and 75 images in '10_food_classes_10_percent/train/fried_rice'.\n",
            "There are 0 directories and 75 images in '10_food_classes_10_percent/train/chicken_wings'.\n",
            "There are 0 directories and 75 images in '10_food_classes_10_percent/train/steak'.\n",
            "There are 0 directories and 75 images in '10_food_classes_10_percent/train/grilled_salmon'.\n",
            "There are 0 directories and 75 images in '10_food_classes_10_percent/train/ramen'.\n",
            "There are 0 directories and 75 images in '10_food_classes_10_percent/train/pizza'.\n",
            "There are 10 directories and 0 images in '10_food_classes_10_percent/test'.\n",
            "There are 0 directories and 250 images in '10_food_classes_10_percent/test/chicken_curry'.\n",
            "There are 0 directories and 250 images in '10_food_classes_10_percent/test/ice_cream'.\n",
            "There are 0 directories and 250 images in '10_food_classes_10_percent/test/sushi'.\n",
            "There are 0 directories and 250 images in '10_food_classes_10_percent/test/hamburger'.\n",
            "There are 0 directories and 250 images in '10_food_classes_10_percent/test/fried_rice'.\n",
            "There are 0 directories and 250 images in '10_food_classes_10_percent/test/chicken_wings'.\n",
            "There are 0 directories and 250 images in '10_food_classes_10_percent/test/steak'.\n",
            "There are 0 directories and 250 images in '10_food_classes_10_percent/test/grilled_salmon'.\n",
            "There are 0 directories and 250 images in '10_food_classes_10_percent/test/ramen'.\n",
            "There are 0 directories and 250 images in '10_food_classes_10_percent/test/pizza'.\n"
          ]
        }
      ]
    },
    {
      "cell_type": "code",
      "source": [
        "# Create training and test directory paths\n",
        "train_dir = \"10_food_classes_10_percent/train\"\n",
        "test_dir = \"10_food_classes_10_percent/test\""
      ],
      "metadata": {
        "id": "gGQW4K4IHxIr"
      },
      "execution_count": 7,
      "outputs": []
    },
    {
      "cell_type": "code",
      "source": [
        "import tensorflow as tf\n",
        "IMG_SIZE = (224, 224)\n",
        "BATCH_SIZE = 32\n",
        "train_data_10_percent = tf.keras.preprocessing.image_dataset_from_directory(directory=train_dir,\n",
        "                                                                            image_size=IMG_SIZE,\n",
        "                                                                            label_mode=\"categorical\",\n",
        "                                                                            batch_size=BATCH_SIZE)\n",
        "test_data = tf.keras.preprocessing.image_dataset_from_directory(directory=test_dir,\n",
        "                                                                image_size=IMG_SIZE,\n",
        "                                                                label_mode=\"categorical\",\n",
        "                                                                batch_size=BATCH_SIZE)"
      ],
      "metadata": {
        "colab": {
          "base_uri": "https://localhost:8080/"
        },
        "id": "xN0Ds0A4HzHO",
        "outputId": "42e0d6db-8c30-4e30-b1f9-5d6199d97e23"
      },
      "execution_count": 8,
      "outputs": [
        {
          "output_type": "stream",
          "name": "stdout",
          "text": [
            "Found 750 files belonging to 10 classes.\n",
            "Found 2500 files belonging to 10 classes.\n"
          ]
        }
      ]
    },
    {
      "cell_type": "code",
      "source": [
        "train_data_10_percent"
      ],
      "metadata": {
        "colab": {
          "base_uri": "https://localhost:8080/"
        },
        "id": "uy_m5_pcH1MI",
        "outputId": "6fa95e38-863a-4960-8dd8-1a97bd0b6d2c"
      },
      "execution_count": 9,
      "outputs": [
        {
          "output_type": "execute_result",
          "data": {
            "text/plain": [
              "<_BatchDataset element_spec=(TensorSpec(shape=(None, 224, 224, 3), dtype=tf.float32, name=None), TensorSpec(shape=(None, 10), dtype=tf.float32, name=None))>"
            ]
          },
          "metadata": {},
          "execution_count": 9
        }
      ]
    },
    {
      "cell_type": "code",
      "source": [
        "# Check out the class names of our dataset\n",
        "train_data_10_percent.class_names"
      ],
      "metadata": {
        "colab": {
          "base_uri": "https://localhost:8080/"
        },
        "id": "UrZ2YisXH4Gl",
        "outputId": "20fd3705-3474-4b27-fc6e-a91935d93c95"
      },
      "execution_count": 10,
      "outputs": [
        {
          "output_type": "execute_result",
          "data": {
            "text/plain": [
              "['chicken_curry',\n",
              " 'chicken_wings',\n",
              " 'fried_rice',\n",
              " 'grilled_salmon',\n",
              " 'hamburger',\n",
              " 'ice_cream',\n",
              " 'pizza',\n",
              " 'ramen',\n",
              " 'steak',\n",
              " 'sushi']"
            ]
          },
          "metadata": {},
          "execution_count": 10
        }
      ]
    },
    {
      "cell_type": "code",
      "source": [
        "# See an example of a batch of data\n",
        "for images, labels in train_data_10_percent.take(1):\n",
        "  print(images, labels)"
      ],
      "metadata": {
        "colab": {
          "base_uri": "https://localhost:8080/"
        },
        "id": "OCrJQyxxH6B8",
        "outputId": "e13d8f98-0c8d-4d22-932d-c17601c97036"
      },
      "execution_count": 11,
      "outputs": [
        {
          "output_type": "stream",
          "name": "stdout",
          "text": [
            "tf.Tensor(\n",
            "[[[[1.83214294e+02 1.68214294e+02 1.25214279e+02]\n",
            "   [1.82204086e+02 1.67204086e+02 1.24204079e+02]\n",
            "   [1.81540817e+02 1.66540817e+02 1.23540817e+02]\n",
            "   ...\n",
            "   [9.39591751e+01 5.26734581e+01 5.41326485e+01]\n",
            "   [9.49285736e+01 5.29081841e+01 5.37041092e+01]\n",
            "   [9.21122284e+01 5.11938705e+01 5.01836586e+01]]\n",
            "\n",
            "  [[1.80071426e+02 1.65071426e+02 1.22071426e+02]\n",
            "   [1.80071426e+02 1.65071426e+02 1.22071426e+02]\n",
            "   [1.80734680e+02 1.65734680e+02 1.22734695e+02]\n",
            "   ...\n",
            "   [1.10408142e+02 5.88265305e+01 5.81632576e+01]\n",
            "   [1.12540817e+02 5.88877563e+01 5.89285736e+01]\n",
            "   [1.10795914e+02 5.72040749e+01 5.54999847e+01]]\n",
            "\n",
            "  [[1.80214279e+02 1.65428574e+02 1.22000000e+02]\n",
            "   [1.80734695e+02 1.65948990e+02 1.22520409e+02]\n",
            "   [1.82704086e+02 1.67918365e+02 1.24489799e+02]\n",
            "   ...\n",
            "   [1.13989777e+02 6.44285583e+01 6.28571434e+01]\n",
            "   [1.16591805e+02 6.55306244e+01 6.29795876e+01]\n",
            "   [1.15642845e+02 6.35714188e+01 6.13571358e+01]]\n",
            "\n",
            "  ...\n",
            "\n",
            "  [[1.94224411e+02 2.04224411e+02 1.95224411e+02]\n",
            "   [1.97867325e+02 2.07867325e+02 1.99295898e+02]\n",
            "   [2.00908218e+02 2.10908218e+02 2.02908218e+02]\n",
            "   ...\n",
            "   [2.14336761e+02 2.09908234e+02 1.75122498e+02]\n",
            "   [2.14030548e+02 2.08704056e+02 1.74367294e+02]\n",
            "   [2.15193756e+02 2.09193756e+02 1.75193756e+02]]\n",
            "\n",
            "  [[2.00132645e+02 2.10132645e+02 2.01132645e+02]\n",
            "   [2.01357132e+02 2.11357132e+02 2.02785706e+02]\n",
            "   [2.01877533e+02 2.11877533e+02 2.03877533e+02]\n",
            "   ...\n",
            "   [2.24030548e+02 2.20030548e+02 1.85030548e+02]\n",
            "   [2.18489944e+02 2.14489944e+02 1.79489944e+02]\n",
            "   [2.09336761e+02 2.05336761e+02 1.70336761e+02]]\n",
            "\n",
            "  [[1.99142853e+02 2.09142853e+02 2.00142853e+02]\n",
            "   [2.00306152e+02 2.10306152e+02 2.01734726e+02]\n",
            "   [2.00459229e+02 2.10459229e+02 2.02459229e+02]\n",
            "   ...\n",
            "   [2.11448868e+02 2.07448868e+02 1.72448868e+02]\n",
            "   [2.12061035e+02 2.08061035e+02 1.73061035e+02]\n",
            "   [2.12520264e+02 2.08520264e+02 1.73520264e+02]]]\n",
            "\n",
            "\n",
            " [[[3.60000000e+01 0.00000000e+00 0.00000000e+00]\n",
            "   [3.60000000e+01 0.00000000e+00 0.00000000e+00]\n",
            "   [3.60000000e+01 0.00000000e+00 0.00000000e+00]\n",
            "   ...\n",
            "   [3.60000000e+01 1.00000000e+00 0.00000000e+00]\n",
            "   [3.80000000e+01 0.00000000e+00 0.00000000e+00]\n",
            "   [3.90000000e+01 0.00000000e+00 0.00000000e+00]]\n",
            "\n",
            "  [[3.60000000e+01 0.00000000e+00 0.00000000e+00]\n",
            "   [3.60000000e+01 0.00000000e+00 0.00000000e+00]\n",
            "   [3.60000000e+01 0.00000000e+00 0.00000000e+00]\n",
            "   ...\n",
            "   [3.75714722e+01 2.14263916e-01 0.00000000e+00]\n",
            "   [3.80000000e+01 0.00000000e+00 0.00000000e+00]\n",
            "   [3.80000000e+01 0.00000000e+00 0.00000000e+00]]\n",
            "\n",
            "  [[3.60000000e+01 0.00000000e+00 0.00000000e+00]\n",
            "   [3.60000000e+01 0.00000000e+00 0.00000000e+00]\n",
            "   [3.60000000e+01 0.00000000e+00 0.00000000e+00]\n",
            "   ...\n",
            "   [3.80459137e+01 0.00000000e+00 0.00000000e+00]\n",
            "   [3.75714264e+01 2.14285851e-01 0.00000000e+00]\n",
            "   [3.60000000e+01 1.00000000e+00 0.00000000e+00]]\n",
            "\n",
            "  ...\n",
            "\n",
            "  [[3.80000000e+01 0.00000000e+00 0.00000000e+00]\n",
            "   [3.80000000e+01 0.00000000e+00 0.00000000e+00]\n",
            "   [3.80000000e+01 0.00000000e+00 0.00000000e+00]\n",
            "   ...\n",
            "   [3.80000000e+01 0.00000000e+00 0.00000000e+00]\n",
            "   [3.80000000e+01 0.00000000e+00 0.00000000e+00]\n",
            "   [3.80000000e+01 0.00000000e+00 0.00000000e+00]]\n",
            "\n",
            "  [[3.80000000e+01 0.00000000e+00 0.00000000e+00]\n",
            "   [3.80000000e+01 0.00000000e+00 0.00000000e+00]\n",
            "   [3.80000000e+01 0.00000000e+00 0.00000000e+00]\n",
            "   ...\n",
            "   [3.80000000e+01 0.00000000e+00 0.00000000e+00]\n",
            "   [3.80000000e+01 0.00000000e+00 0.00000000e+00]\n",
            "   [3.80000000e+01 0.00000000e+00 0.00000000e+00]]\n",
            "\n",
            "  [[3.80000000e+01 0.00000000e+00 0.00000000e+00]\n",
            "   [3.80000000e+01 0.00000000e+00 0.00000000e+00]\n",
            "   [3.80000000e+01 0.00000000e+00 0.00000000e+00]\n",
            "   ...\n",
            "   [3.80000000e+01 0.00000000e+00 0.00000000e+00]\n",
            "   [3.80000000e+01 0.00000000e+00 0.00000000e+00]\n",
            "   [3.80000000e+01 0.00000000e+00 0.00000000e+00]]]\n",
            "\n",
            "\n",
            " [[[1.99879471e+02 1.64879471e+02 1.22879463e+02]\n",
            "   [1.97090073e+02 1.63351242e+02 1.18351242e+02]\n",
            "   [1.96000000e+02 1.62317123e+02 1.17046875e+02]\n",
            "   ...\n",
            "   [1.42046387e+02 8.47879868e+01 5.17970505e+01]\n",
            "   [1.40791626e+02 8.62693024e+01 5.05304642e+01]\n",
            "   [1.42834854e+02 8.88348541e+01 5.28348579e+01]]\n",
            "\n",
            "  [[2.02140625e+02 1.68707596e+02 1.25924103e+02]\n",
            "   [1.98709824e+02 1.65709824e+02 1.20709816e+02]\n",
            "   [1.96783478e+02 1.63997757e+02 1.18569199e+02]\n",
            "   ...\n",
            "   [1.42522827e+02 8.31870804e+01 4.97834816e+01]\n",
            "   [1.40839462e+02 8.48394547e+01 4.98394547e+01]\n",
            "   [1.43707626e+02 8.81406631e+01 5.29241409e+01]]\n",
            "\n",
            "  [[2.01388397e+02 1.71000000e+02 1.27000000e+02]\n",
            "   [1.98815201e+02 1.68732620e+02 1.22426811e+02]\n",
            "   [1.96934479e+02 1.65785721e+02 1.19571426e+02]\n",
            "   ...\n",
            "   [1.43471603e+02 8.35059509e+01 4.89338493e+01]\n",
            "   [1.43848221e+02 8.57656403e+01 5.14598351e+01]\n",
            "   [1.44993515e+02 8.96051254e+01 5.42993240e+01]]\n",
            "\n",
            "  ...\n",
            "\n",
            "  [[1.79460449e+02 1.33531876e+02 6.31747284e+01]\n",
            "   [1.89289841e+02 1.32575562e+02 6.55041351e+01]\n",
            "   [1.77266235e+02 1.17868958e+02 5.26033134e+01]\n",
            "   ...\n",
            "   [1.90397308e+02 1.57248566e+02 1.16694801e+02]\n",
            "   [1.91173553e+02 1.58173553e+02 1.15173546e+02]\n",
            "   [1.89419708e+02 1.56419708e+02 1.12808136e+02]]\n",
            "\n",
            "  [[1.85563110e+02 1.35842911e+02 6.68429184e+01]\n",
            "   [1.82135956e+02 1.26225899e+02 5.89534111e+01]\n",
            "   [1.65462357e+02 1.09849815e+02 4.30154648e+01]\n",
            "   ...\n",
            "   [1.92477173e+02 1.58477173e+02 1.20691444e+02]\n",
            "   [1.89216522e+02 1.56216522e+02 1.15216522e+02]\n",
            "   [1.88433044e+02 1.55433044e+02 1.12433044e+02]]\n",
            "\n",
            "  [[1.75641006e+02 1.21946701e+02 5.44244194e+01]\n",
            "   [1.69765640e+02 1.18982231e+02 5.02433701e+01]\n",
            "   [1.61997253e+02 1.12809845e+02 4.42852745e+01]\n",
            "   ...\n",
            "   [1.91211945e+02 1.57211945e+02 1.19426208e+02]\n",
            "   [1.87783417e+02 1.54783417e+02 1.13783417e+02]\n",
            "   [1.88786179e+02 1.55786179e+02 1.12786186e+02]]]\n",
            "\n",
            "\n",
            " ...\n",
            "\n",
            "\n",
            " [[[5.28571415e+00 6.28571415e+00 1.28571439e+00]\n",
            "   [5.38265276e+00 6.38265276e+00 1.38265276e+00]\n",
            "   [7.20918369e+00 8.20918369e+00 3.20918369e+00]\n",
            "   ...\n",
            "   [5.82753944e+01 4.75509872e+01 3.05664444e+01]\n",
            "   [4.57855835e+01 4.49539833e+01 4.47857285e+01]\n",
            "   [2.14233227e+01 2.57243996e+01 4.52500534e+01]]\n",
            "\n",
            "  [[5.42857122e+00 6.42857122e+00 1.42857146e+00]\n",
            "   [5.35204029e+00 6.35204029e+00 1.35204041e+00]\n",
            "   [7.35714245e+00 8.35714245e+00 3.35714269e+00]\n",
            "   ...\n",
            "   [7.38979187e+01 6.84694366e+01 7.48572540e+01]\n",
            "   [5.86885872e+01 6.21886253e+01 8.04744339e+01]\n",
            "   [3.20662498e+01 3.91581497e+01 7.31072617e+01]]\n",
            "\n",
            "  [[1.12142849e+01 1.22142849e+01 7.21428490e+00]\n",
            "   [1.14693871e+01 1.24693871e+01 7.46938705e+00]\n",
            "   [1.43571424e+01 1.53571424e+01 1.03571424e+01]\n",
            "   ...\n",
            "   [7.52857132e+01 7.98622818e+01 1.09244934e+02]\n",
            "   [6.55661316e+01 7.81681900e+01 1.11999878e+02]\n",
            "   [3.12344093e+01 4.56477585e+01 9.00100403e+01]]\n",
            "\n",
            "  ...\n",
            "\n",
            "  [[2.49285984e+01 1.56479893e+01 6.64798880e+00]\n",
            "   [2.76020241e+01 1.97857056e+01 9.01530647e+00]\n",
            "   [2.48316269e+01 1.88316269e+01 6.40305424e+00]\n",
            "   ...\n",
            "   [6.01021614e+01 5.31021614e+01 3.52705688e+01]\n",
            "   [5.71071053e+01 5.18928108e+01 3.35356941e+01]\n",
            "   [5.65867996e+01 5.13725052e+01 3.30153885e+01]]\n",
            "\n",
            "  [[3.10663986e+01 2.20663986e+01 1.30663967e+01]\n",
            "   [2.61428566e+01 1.91326542e+01 9.13775539e+00]\n",
            "   [2.44132690e+01 1.84132690e+01 5.98469782e+00]\n",
            "   ...\n",
            "   [5.64437981e+01 4.94437981e+01 3.30152702e+01]\n",
            "   [6.82860413e+01 6.22860413e+01 4.62860413e+01]\n",
            "   [6.56375046e+01 5.96375046e+01 4.36375046e+01]]\n",
            "\n",
            "  [[2.95561314e+01 2.05561314e+01 1.15561323e+01]\n",
            "   [2.44081688e+01 1.74081688e+01 7.40816784e+00]\n",
            "   [2.54336739e+01 2.00765324e+01 7.43367386e+00]\n",
            "   ...\n",
            "   [7.08520966e+01 6.38520966e+01 4.78520966e+01]\n",
            "   [6.97653275e+01 6.37653236e+01 4.97653236e+01]\n",
            "   [6.20253754e+01 5.60253754e+01 4.20253754e+01]]]\n",
            "\n",
            "\n",
            " [[[2.51556122e+02 2.33183670e+02 1.92642853e+02]\n",
            "   [1.43596924e+02 1.15811203e+02 7.67397766e+01]\n",
            "   [1.61882660e+02 1.23454086e+02 8.76683655e+01]\n",
            "   ...\n",
            "   [3.81071968e+01 1.73214607e+01 1.67499886e+01]\n",
            "   [4.15560799e+01 1.75560799e+01 1.75560799e+01]\n",
            "   [3.96786232e+01 1.36786232e+01 1.46786232e+01]]\n",
            "\n",
            "  [[2.53806122e+02 2.33846939e+02 1.97750000e+02]\n",
            "   [2.12826538e+02 1.84239807e+02 1.49892868e+02]\n",
            "   [1.46714279e+02 1.09642853e+02 7.64693756e+01]\n",
            "   ...\n",
            "   [3.62651863e+01 1.54794483e+01 1.49079762e+01]\n",
            "   [4.03367691e+01 1.63367691e+01 1.63367691e+01]\n",
            "   [4.48775826e+01 1.88775826e+01 1.98775826e+01]]\n",
            "\n",
            "  [[2.29413254e+02 2.08413254e+02 1.77841827e+02]\n",
            "   [2.40071426e+02 2.13198975e+02 1.83841827e+02]\n",
            "   [1.10127541e+02 7.60357056e+01 4.82959137e+01]\n",
            "   ...\n",
            "   [4.03571854e+01 1.83571854e+01 2.03571854e+01]\n",
            "   [4.66734352e+01 2.31020069e+01 2.35305786e+01]\n",
            "   [4.31684036e+01 1.95969772e+01 2.00255489e+01]]\n",
            "\n",
            "  ...\n",
            "\n",
            "  [[0.00000000e+00 3.00000000e+00 0.00000000e+00]\n",
            "   [0.00000000e+00 3.00000000e+00 0.00000000e+00]\n",
            "   [0.00000000e+00 2.78571415e+00 0.00000000e+00]\n",
            "   ...\n",
            "   [2.28365574e+01 7.02541065e+00 3.81114674e+00]\n",
            "   [2.69998169e+01 8.35702515e+00 6.14276123e+00]\n",
            "   [3.07906418e+01 1.05763779e+01 9.14785004e+00]]\n",
            "\n",
            "  [[0.00000000e+00 3.00000000e+00 0.00000000e+00]\n",
            "   [0.00000000e+00 3.00000000e+00 0.00000000e+00]\n",
            "   [0.00000000e+00 2.78571415e+00 0.00000000e+00]\n",
            "   ...\n",
            "   [9.58671856e+00 3.41839850e-01 0.00000000e+00]\n",
            "   [1.09897919e+01 1.14798725e+00 5.10390941e-03]\n",
            "   [1.28775234e+01 3.09695911e+00 1.04592431e+00]]\n",
            "\n",
            "  [[0.00000000e+00 3.00000000e+00 0.00000000e+00]\n",
            "   [0.00000000e+00 3.00000000e+00 0.00000000e+00]\n",
            "   [0.00000000e+00 2.78571415e+00 0.00000000e+00]\n",
            "   ...\n",
            "   [5.06638336e+00 1.29597449e+00 3.57177734e-01]\n",
            "   [7.38269520e+00 2.18889904e+00 1.69394851e+00]\n",
            "   [9.48475361e+00 5.07153320e+00 2.07153320e+00]]]\n",
            "\n",
            "\n",
            " [[[1.18285713e+02 9.42857132e+01 9.10000000e+01]\n",
            "   [1.18000000e+02 9.40000000e+01 9.07142868e+01]\n",
            "   [1.16500000e+02 9.05000000e+01 9.02142868e+01]\n",
            "   ...\n",
            "   [2.07367371e+02 1.91367371e+02 1.91581635e+02]\n",
            "   [2.06311234e+02 1.91311234e+02 1.88168350e+02]\n",
            "   [2.07255127e+02 1.92255127e+02 1.85255127e+02]]\n",
            "\n",
            "  [[1.16505104e+02 9.83622437e+01 8.67193832e+01]\n",
            "   [1.27020416e+02 1.05295921e+02 9.45816345e+01]\n",
            "   [1.28739807e+02 1.04071426e+02 9.46836777e+01]\n",
            "   ...\n",
            "   [2.09500046e+02 1.93500046e+02 1.93515350e+02]\n",
            "   [2.08862213e+02 1.93862213e+02 1.88994873e+02]\n",
            "   [2.06974487e+02 1.91974487e+02 1.84974487e+02]]\n",
            "\n",
            "  [[1.58647964e+02 1.35790817e+02 1.09862244e+02]\n",
            "   [1.73428574e+02 1.47173477e+02 1.23658173e+02]\n",
            "   [1.81382660e+02 1.50979599e+02 1.27954086e+02]\n",
            "   ...\n",
            "   [2.08954086e+02 1.93954086e+02 1.90525513e+02]\n",
            "   [2.05984695e+02 1.90984695e+02 1.85984695e+02]\n",
            "   [2.07066360e+02 1.92066360e+02 1.85066360e+02]]\n",
            "\n",
            "  ...\n",
            "\n",
            "  [[1.26295555e+02 1.16224167e+02 6.47902679e+01]\n",
            "   [1.39316071e+02 1.32030365e+02 9.09894257e+01]\n",
            "   [1.54846786e+02 1.47846802e+02 1.22112007e+02]\n",
            "   ...\n",
            "   [1.60382614e+02 1.86382614e+02 2.19382614e+02]\n",
            "   [1.69199020e+02 1.93199020e+02 2.27199020e+02]\n",
            "   [1.68357025e+02 1.92357025e+02 2.26357025e+02]]\n",
            "\n",
            "  [[7.40406418e+01 6.46120605e+01 8.35702610e+00]\n",
            "   [1.04606705e+02 9.84536285e+01 5.01832581e+01]\n",
            "   [1.22096695e+02 1.17882408e+02 8.23824081e+01]\n",
            "   ...\n",
            "   [1.70204056e+02 1.95775528e+02 2.30561264e+02]\n",
            "   [1.67086746e+02 1.93086746e+02 2.28086746e+02]\n",
            "   [1.71943939e+02 1.95943939e+02 2.31943939e+02]]\n",
            "\n",
            "  [[6.02039986e+01 4.81325340e+01 5.27556515e+00]\n",
            "   [5.12653122e+01 4.29540863e+01 5.00521469e+00]\n",
            "   [6.47184219e+01 5.97184219e+01 2.81469917e+01]\n",
            "   ...\n",
            "   [1.67260483e+02 1.92831955e+02 2.27617691e+02]\n",
            "   [1.67637711e+02 1.93637711e+02 2.28637711e+02]\n",
            "   [1.68535858e+02 1.94535858e+02 2.29535858e+02]]]], shape=(32, 224, 224, 3), dtype=float32) tf.Tensor(\n",
            "[[0. 1. 0. 0. 0. 0. 0. 0. 0. 0.]\n",
            " [0. 0. 0. 0. 0. 0. 0. 0. 0. 1.]\n",
            " [0. 0. 1. 0. 0. 0. 0. 0. 0. 0.]\n",
            " [0. 0. 0. 0. 0. 0. 1. 0. 0. 0.]\n",
            " [0. 0. 0. 1. 0. 0. 0. 0. 0. 0.]\n",
            " [0. 0. 1. 0. 0. 0. 0. 0. 0. 0.]\n",
            " [0. 0. 0. 1. 0. 0. 0. 0. 0. 0.]\n",
            " [0. 0. 0. 0. 0. 1. 0. 0. 0. 0.]\n",
            " [0. 0. 0. 0. 1. 0. 0. 0. 0. 0.]\n",
            " [0. 0. 0. 0. 0. 0. 0. 0. 1. 0.]\n",
            " [0. 0. 1. 0. 0. 0. 0. 0. 0. 0.]\n",
            " [0. 0. 0. 0. 1. 0. 0. 0. 0. 0.]\n",
            " [0. 0. 0. 0. 0. 1. 0. 0. 0. 0.]\n",
            " [0. 0. 0. 0. 1. 0. 0. 0. 0. 0.]\n",
            " [0. 0. 0. 1. 0. 0. 0. 0. 0. 0.]\n",
            " [0. 0. 0. 1. 0. 0. 0. 0. 0. 0.]\n",
            " [0. 0. 0. 0. 0. 0. 1. 0. 0. 0.]\n",
            " [0. 0. 0. 0. 0. 0. 0. 0. 1. 0.]\n",
            " [0. 1. 0. 0. 0. 0. 0. 0. 0. 0.]\n",
            " [0. 0. 0. 0. 0. 0. 0. 0. 1. 0.]\n",
            " [0. 0. 0. 0. 0. 1. 0. 0. 0. 0.]\n",
            " [1. 0. 0. 0. 0. 0. 0. 0. 0. 0.]\n",
            " [0. 0. 0. 0. 0. 0. 0. 0. 0. 1.]\n",
            " [0. 0. 0. 0. 0. 1. 0. 0. 0. 0.]\n",
            " [0. 0. 0. 0. 1. 0. 0. 0. 0. 0.]\n",
            " [0. 0. 0. 1. 0. 0. 0. 0. 0. 0.]\n",
            " [0. 0. 0. 0. 0. 0. 0. 0. 0. 1.]\n",
            " [0. 0. 0. 0. 0. 0. 0. 0. 0. 1.]\n",
            " [0. 0. 0. 0. 0. 0. 0. 0. 1. 0.]\n",
            " [0. 1. 0. 0. 0. 0. 0. 0. 0. 0.]\n",
            " [0. 0. 0. 0. 1. 0. 0. 0. 0. 0.]\n",
            " [0. 0. 0. 0. 0. 0. 1. 0. 0. 0.]], shape=(32, 10), dtype=float32)\n"
          ]
        }
      ]
    },
    {
      "cell_type": "markdown",
      "source": [
        "## Model 0: Building a transfer learning feature extraction model using the Keras Functional API\n",
        "\n",
        "The sequential API is straight-forward, it runs our layers in sequential order.\n",
        "\n",
        "But the functional API gives us more flexibility with our models - https://www.tensorflow.org/guide/keras/functional"
      ],
      "metadata": {
        "id": "n1tSN-yMH-La"
      }
    },
    {
      "cell_type": "code",
      "source": [
        "# 1. Create base model with tf.keras.applications\n",
        "base_model = tf.keras.applications.EfficientNetB0(include_top=False)\n",
        "\n",
        "# 2. Freeze the base model (so the underlying pre-trained patterns aren't updated during training)\n",
        "base_model.trainable = False\n",
        "\n",
        "# 3. Create inputs into our model\n",
        "inputs = tf.keras.layers.Input(shape=(224, 224, 3), name=\"input_layer\")\n",
        "\n",
        "# 4. If using a model like ResNet50V2 you will need to normalize inputs (you don't have to for EfficientNet(s))\n",
        "# x = tf.keras.layers.experimental.preprocessing.Rescaling(1./255)(inputs)\n",
        "\n",
        "# 5. Pass the inputs to the base_model\n",
        "x = base_model(inputs)\n",
        "print(f\"Shape after passing inputs through base model: {x.shape}\")\n",
        "\n",
        "# 6. Average pool the outputs of the base model (aggregate all the most important infromation, reduce number of computations)\n",
        "x = tf.keras.layers.GlobalAveragePooling2D(name=\"global_average_pooling_layer\")(x)\n",
        "print(f\"Shape after GlobalAveragePooling2D: {x.shape}\")\n",
        "\n",
        "# 7. Create the output activation layer\n",
        "outputs = tf.keras.layers.Dense(10, activation=\"softmax\", name=\"output_layer\")(x)\n",
        "\n",
        "# 8. Combine the inputs with the outputs into a model\n",
        "model_0 = tf.keras.Model(inputs, outputs)\n",
        "\n",
        "# 9. Compile the model\n",
        "model_0.compile(loss=\"categorical_crossentropy\",\n",
        "                optimizer=tf.keras.optimizers.Adam(),\n",
        "                metrics=[\"accuracy\"])\n",
        "\n",
        "# 10. Fit the model and save its history\n",
        "history_10_percent = model_0.fit(train_data_10_percent,\n",
        "                                 epochs=5,\n",
        "                                 steps_per_epoch=len(train_data_10_percent),\n",
        "                                 validation_data=test_data,\n",
        "                                 validation_steps=int(0.25 * len(test_data)),\n",
        "                                 callbacks=[create_tensorboard_callback(dir_name=\"transfer_learning\",\n",
        "                                                                        experiment_name=\"10_percent_feature_extraction\")])\n",
        ""
      ],
      "metadata": {
        "colab": {
          "base_uri": "https://localhost:8080/"
        },
        "id": "vuYYFnaZH9xy",
        "outputId": "e9fc6cb8-4706-45e9-ba88-c24a26b84e82"
      },
      "execution_count": null,
      "outputs": [
        {
          "output_type": "stream",
          "name": "stdout",
          "text": [
            "Downloading data from https://storage.googleapis.com/keras-applications/efficientnetb0_notop.h5\n",
            "16705208/16705208 [==============================] - 0s 0us/step\n",
            "Shape after passing inputs through base model: (None, 7, 7, 1280)\n",
            "Shape after GlobalAveragePooling2D: (None, 1280)\n",
            "Saving TensorBoard log files to: transfer_learning/10_percent_feature_extraction/20230619-100812\n"
          ]
        },
        {
          "output_type": "stream",
          "name": "stderr",
          "text": [
            "WARNING:tensorflow:Model failed to serialize as JSON. Ignoring... Unable to serialize [2.0896919 2.1128857 2.1081853] to JSON. Unrecognized type <class 'tensorflow.python.framework.ops.EagerTensor'>.\n"
          ]
        },
        {
          "output_type": "stream",
          "name": "stdout",
          "text": [
            "Epoch 1/5\n",
            "24/24 [==============================] - 25s 350ms/step - loss: 1.8370 - accuracy: 0.4480 - val_loss: 1.2847 - val_accuracy: 0.7352\n",
            "Epoch 2/5\n",
            " 1/24 [>.............................] - ETA: 13s - loss: 1.3526 - accuracy: 0.7188"
          ]
        }
      ]
    }
  ]
}