{
  "nbformat": 4,
  "nbformat_minor": 0,
  "metadata": {
    "colab": {
      "provenance": [],
      "gpuType": "T4",
      "authorship_tag": "ABX9TyNa+xZeCb2Sgppuux4FRP/0",
      "include_colab_link": true
    },
    "kernelspec": {
      "name": "python3",
      "display_name": "Python 3"
    },
    "language_info": {
      "name": "python"
    },
    "accelerator": "GPU",
    "gpuClass": "standard"
  },
  "cells": [
    {
      "cell_type": "markdown",
      "metadata": {
        "id": "view-in-github",
        "colab_type": "text"
      },
      "source": [
        "<a href=\"https://colab.research.google.com/github/shapi88/tensorflow_book/blob/main/00_tensorflow_fundamentals.ipynb\" target=\"_parent\"><img src=\"https://colab.research.google.com/assets/colab-badge.svg\" alt=\"Open In Colab\"/></a>"
      ]
    },
    {
      "cell_type": "markdown",
      "source": [
        "# Tensorflow fundamentals 1st part notebook\n",
        "\n",
        "Covering:\n",
        "* Introduction to tensors\n",
        "* Getting info from tensors\n",
        "* Manipulating Tensors\n",
        "* Tensors & Numpy\n",
        "* Using @tf.fucntion (a way to speed up your regular python functions)\n",
        "* Using GPU w/ tensors or TSU\n",
        "* Exercises\n",
        "\n",
        "\n",
        "### Topics\n",
        "**1** - What is deep learning\n",
        "\n",
        "**2** - Why use deep learning\n",
        "\n",
        "**3** - What are neural networks\n",
        "\n",
        "**4** - What is deep learning already being used for\n",
        "\n",
        "**5** - What is and why use tensor flow\n",
        "\n",
        "**6** - What is a Tensor\n",
        "\n",
        "**7** - TensorFlow and tf.constant()\n",
        "\n",
        "**8** - TensorFlow and tf.Variable()\n",
        "\n",
        "**9** - Creating tensors from NumPy arrays\n",
        "\n",
        "**10** - Getting information from your tensors (tensor attributes)\n",
        "\n",
        "**11** - Indexing and expanding tensors\n",
        "\n",
        "**12** - Manipulating tensors with basic Operations\n",
        "\n",
        "**13** - Matrix Multiplications\n",
        "\n",
        "**14** - Changing the datatype of tensors\n",
        "\n",
        "**15** - Tensor aggregation\n",
        "\n",
        "**16** - Troubleshooting datatypes updates\n",
        "\n",
        "**17** - Finding the positional minimum and maximum of a tensor\n",
        "\n",
        "**18** - Squeezing a tensor\n",
        "\n",
        "**19** - One-hot encoding tensor\n",
        "\n",
        "**20** - Trying out more tensor math operations\n",
        "\n",
        "**21** - Exploring TensorFlow and NumPy's compatibility\n",
        "\n",
        "**22** - Operations on GPUs\n",
        "\n",
        "**23** - TensorFlow fundamentals challenge"
      ],
      "metadata": {
        "id": "R97Ns5ROnjbG"
      }
    },
    {
      "cell_type": "code",
      "source": [
        "# Import tensorflow\n",
        "import tensorflow as tf\n",
        "print(tf.__version__)\n",
        "\n",
        "# https://www.tensorflow.org/api_docs/python/tf/constant\n",
        "# create tensors w/ tf.constant()\n",
        "scalar = tf.constant(7) # <tf.Tensor: shape=(), dtype=int32, numpy=7>\n",
        "scalar\n",
        "\n",
        "# check the number of dimensions of a tensor (ndim stands for the number of dimensions)\n",
        "scalar.ndim"
      ],
      "metadata": {
        "colab": {
          "base_uri": "https://localhost:8080/"
        },
        "id": "Rdef6sxLpKYv",
        "outputId": "3dd22364-2643-4f2a-b5c8-6ed0e78056d7"
      },
      "execution_count": null,
      "outputs": [
        {
          "output_type": "stream",
          "name": "stdout",
          "text": [
            "2.12.0\n"
          ]
        },
        {
          "output_type": "execute_result",
          "data": {
            "text/plain": [
              "0"
            ]
          },
          "metadata": {},
          "execution_count": 1
        }
      ]
    },
    {
      "cell_type": "code",
      "source": [
        "vector = tf.constant([1, 2, 3, 4, 5, 6]) # <tf.Tensor: shape=(6,), dtype=int32, numpy=array([1, 2, 3, 4, 5, 6], dtype=int32)>\n",
        "vector.ndim, vector"
      ],
      "metadata": {
        "colab": {
          "base_uri": "https://localhost:8080/"
        },
        "id": "6WVE8F2mty86",
        "outputId": "2bb69fe9-fc08-4abc-bbe5-02cb69d6e932"
      },
      "execution_count": null,
      "outputs": [
        {
          "output_type": "execute_result",
          "data": {
            "text/plain": [
              "(1,\n",
              " <tf.Tensor: shape=(6,), dtype=int32, numpy=array([1, 2, 3, 4, 5, 6], dtype=int32)>)"
            ]
          },
          "metadata": {},
          "execution_count": 2
        }
      ]
    },
    {
      "cell_type": "code",
      "source": [
        "matrix = tf.constant([[10,101],[2,3]])\n",
        "matrix, matrix.ndim"
      ],
      "metadata": {
        "colab": {
          "base_uri": "https://localhost:8080/"
        },
        "id": "v3OmDv7HuAtp",
        "outputId": "b27c4a1f-bcbd-45ee-8b7f-3d73cc508ba3"
      },
      "execution_count": null,
      "outputs": [
        {
          "output_type": "execute_result",
          "data": {
            "text/plain": [
              "(<tf.Tensor: shape=(2, 2), dtype=int32, numpy=\n",
              " array([[ 10, 101],\n",
              "        [  2,   3]], dtype=int32)>,\n",
              " 2)"
            ]
          },
          "metadata": {},
          "execution_count": 3
        }
      ]
    },
    {
      "cell_type": "code",
      "source": [
        "#create another matrix \n",
        "another_matrix = tf.constant([[1., 3.],\n",
        "                              [3.9, 9.1],\n",
        "                              [0.9, 0.3]], dtype=tf.float16)\n",
        "another_matrix, another_matrix.ndim\n"
      ],
      "metadata": {
        "colab": {
          "base_uri": "https://localhost:8080/"
        },
        "id": "q4arj__7uVyd",
        "outputId": "ccc2cbd0-c963-41e2-efb3-5be06ecb7a73"
      },
      "execution_count": null,
      "outputs": [
        {
          "output_type": "execute_result",
          "data": {
            "text/plain": [
              "(<tf.Tensor: shape=(3, 2), dtype=float16, numpy=\n",
              " array([[1. , 3. ],\n",
              "        [3.9, 9.1],\n",
              "        [0.9, 0.3]], dtype=float16)>,\n",
              " 2)"
            ]
          },
          "metadata": {},
          "execution_count": 4
        }
      ]
    },
    {
      "cell_type": "code",
      "source": [
        "tensor = tf.constant([ [[1, 2, 3], [4, 5, 6]], [[1, 2, 3], [4, 5, 6]], [[1, 2, 3], [4, 5, 6]], ]) \n",
        "tensor"
      ],
      "metadata": {
        "colab": {
          "base_uri": "https://localhost:8080/"
        },
        "id": "gl8Gmv8jwhqh",
        "outputId": "a0b19a52-4181-4ec5-a3f0-addb58eb15b2"
      },
      "execution_count": null,
      "outputs": [
        {
          "output_type": "execute_result",
          "data": {
            "text/plain": [
              "<tf.Tensor: shape=(3, 2, 3), dtype=int32, numpy=\n",
              "array([[[1, 2, 3],\n",
              "        [4, 5, 6]],\n",
              "\n",
              "       [[1, 2, 3],\n",
              "        [4, 5, 6]],\n",
              "\n",
              "       [[1, 2, 3],\n",
              "        [4, 5, 6]]], dtype=int32)>"
            ]
          },
          "metadata": {},
          "execution_count": 5
        }
      ]
    },
    {
      "cell_type": "code",
      "source": [
        "tensor.ndim"
      ],
      "metadata": {
        "colab": {
          "base_uri": "https://localhost:8080/"
        },
        "id": "6VOuH_xtwj_j",
        "outputId": "fa7e4627-19d7-434e-f45a-af34288c5c91"
      },
      "execution_count": null,
      "outputs": [
        {
          "output_type": "execute_result",
          "data": {
            "text/plain": [
              "3"
            ]
          },
          "metadata": {},
          "execution_count": 6
        }
      ]
    },
    {
      "cell_type": "code",
      "source": [
        "# Create a random tensor\n",
        "# Random tensors are tensors of some arbitrary size which contains random numbers\n",
        "\n",
        "random_1 = tf.random.Generator.from_seed(42) # set seed to reproducibility\n",
        "random_1 = random_1.normal(shape=(3, 2))\n",
        "random_2 = tf.random.Generator.from_seed(42)\n",
        "random_2 = random_2.normal(shape=(3, 2))\n",
        "random_1, random_2, random_1 == random_2"
      ],
      "metadata": {
        "colab": {
          "base_uri": "https://localhost:8080/"
        },
        "id": "6vyyS2KbMIPE",
        "outputId": "221f297a-0e73-4392-8099-8f815d03f085"
      },
      "execution_count": null,
      "outputs": [
        {
          "output_type": "execute_result",
          "data": {
            "text/plain": [
              "(<tf.Tensor: shape=(3, 2), dtype=float32, numpy=\n",
              " array([[-0.7565803 , -0.06854702],\n",
              "        [ 0.07595026, -1.2573844 ],\n",
              "        [-0.23193765, -1.8107855 ]], dtype=float32)>,\n",
              " <tf.Tensor: shape=(3, 2), dtype=float32, numpy=\n",
              " array([[-0.7565803 , -0.06854702],\n",
              "        [ 0.07595026, -1.2573844 ],\n",
              "        [-0.23193765, -1.8107855 ]], dtype=float32)>,\n",
              " <tf.Tensor: shape=(3, 2), dtype=bool, numpy=\n",
              " array([[ True,  True],\n",
              "        [ True,  True],\n",
              "        [ True,  True]])>)"
            ]
          },
          "metadata": {},
          "execution_count": 7
        }
      ]
    },
    {
      "cell_type": "code",
      "source": [
        "# Shuffle a tensor\n",
        "not_shuffled = tf.constant([\n",
        "    [2, 7],\n",
        "    [3, 10],\n",
        "    [2, 5]\n",
        "])\n",
        "shuffled = tf.random.shuffle(not_shuffled)\n",
        "not_shuffled, shuffled, not_shuffled == shuffled"
      ],
      "metadata": {
        "colab": {
          "base_uri": "https://localhost:8080/"
        },
        "id": "7OrCiWwlMLzA",
        "outputId": "65b7bd10-7c41-4c1e-ef34-cffbd5cf145f"
      },
      "execution_count": null,
      "outputs": [
        {
          "output_type": "execute_result",
          "data": {
            "text/plain": [
              "(<tf.Tensor: shape=(3, 2), dtype=int32, numpy=\n",
              " array([[ 2,  7],\n",
              "        [ 3, 10],\n",
              "        [ 2,  5]], dtype=int32)>,\n",
              " <tf.Tensor: shape=(3, 2), dtype=int32, numpy=\n",
              " array([[ 3, 10],\n",
              "        [ 2,  5],\n",
              "        [ 2,  7]], dtype=int32)>,\n",
              " <tf.Tensor: shape=(3, 2), dtype=bool, numpy=\n",
              " array([[False, False],\n",
              "        [False, False],\n",
              "        [ True, False]])>)"
            ]
          },
          "metadata": {},
          "execution_count": 8
        }
      ]
    },
    {
      "cell_type": "code",
      "source": [
        "# Shuffle a tensor with a seed of 42\n",
        "not_shuffled = tf.constant([\n",
        "    [2, 7],\n",
        "    [3, 10],\n",
        "    [2, 5]\n",
        "])\n",
        "\n",
        "tf.random.set_seed(42)\n",
        "shuffled = tf.random.shuffle(not_shuffled, seed=42)\n",
        "not_shuffled, shuffled, not_shuffled == shuffled"
      ],
      "metadata": {
        "colab": {
          "base_uri": "https://localhost:8080/"
        },
        "id": "dNSJR2DhRtBj",
        "outputId": "dc4f4113-b696-4990-956d-375c1b17efe0"
      },
      "execution_count": null,
      "outputs": [
        {
          "output_type": "execute_result",
          "data": {
            "text/plain": [
              "(<tf.Tensor: shape=(3, 2), dtype=int32, numpy=\n",
              " array([[ 2,  7],\n",
              "        [ 3, 10],\n",
              "        [ 2,  5]], dtype=int32)>,\n",
              " <tf.Tensor: shape=(3, 2), dtype=int32, numpy=\n",
              " array([[ 2,  7],\n",
              "        [ 3, 10],\n",
              "        [ 2,  5]], dtype=int32)>,\n",
              " <tf.Tensor: shape=(3, 2), dtype=bool, numpy=\n",
              " array([[ True,  True],\n",
              "        [ True,  True],\n",
              "        [ True,  True]])>)"
            ]
          },
          "metadata": {},
          "execution_count": 9
        }
      ]
    },
    {
      "cell_type": "markdown",
      "source": [
        "🛠 **Exercise** Read through Tensorflow documentation on random seed generator:\n",
        "https://www.tensorflow.org/api_docs/python/tf/random/set_seed and pratice writing 5 random tensors.\n",
        "\n",
        "### Documentation on tensorflow set_seed:\n",
        "Operations that rely on a random seed actually derive it from two seeds: the global and operation-level seeds. This sets the global seed.\n",
        "\n",
        "Its interactions with operation-level seeds is as follows:\n",
        "\n",
        "> **Rule 1**: If neither the global seed nor the operation seed is set: A randomly picked seed is used for this op.\n",
        "\n",
        "> **Rule 2**: If the global seed is set, but the operation seed is not: The system deterministically picks an operation seed in conjunction with the global seed so that it gets a unique random sequence. Within the same version of tensorflow and user code, this sequence is deterministic. However across different versions, this sequence might change. If the code depends on particular seeds to work, specify both global and operation-level seeds explicitly.\n",
        "\n",
        "> **Rule 3**: If the operation seed is set, but the global seed is not set: A default global seed and the specified operation seed are used to determine the random sequence.\n",
        "\n",
        "> **Rule 4**: If both the global and the operation seed are set: Both seeds are used in conjunction to determine the random sequence."
      ],
      "metadata": {
        "id": "xlVJfbYmSipW"
      }
    },
    {
      "cell_type": "code",
      "source": [
        "#exercise 1 - create a operation level seed only\n",
        "not_shuffled = tf.constant([\n",
        "    [1, 2],\n",
        "    [3, 4],\n",
        "    [5, 6]\n",
        "])\n",
        "\n",
        "seed = tf.random.get_global_generator()\n",
        "shuffled_with_op_level = tf.random.shuffle(not_shuffled, seed=1)\n",
        "seed, shuffled_with_op_level, not_shuffled, not_shuffled == shuffled_with_op_level"
      ],
      "metadata": {
        "colab": {
          "base_uri": "https://localhost:8080/"
        },
        "id": "-3ZgIw0kSg2B",
        "outputId": "9c539a58-513e-4388-a431-e3ec62a93979"
      },
      "execution_count": null,
      "outputs": [
        {
          "output_type": "execute_result",
          "data": {
            "text/plain": [
              "(<tensorflow.python.ops.stateful_random_ops.Generator at 0x7fba41d13850>,\n",
              " <tf.Tensor: shape=(3, 2), dtype=int32, numpy=\n",
              " array([[1, 2],\n",
              "        [5, 6],\n",
              "        [3, 4]], dtype=int32)>,\n",
              " <tf.Tensor: shape=(3, 2), dtype=int32, numpy=\n",
              " array([[1, 2],\n",
              "        [3, 4],\n",
              "        [5, 6]], dtype=int32)>,\n",
              " <tf.Tensor: shape=(3, 2), dtype=bool, numpy=\n",
              " array([[ True,  True],\n",
              "        [False, False],\n",
              "        [False, False]])>)"
            ]
          },
          "metadata": {},
          "execution_count": 10
        }
      ]
    },
    {
      "cell_type": "code",
      "source": [
        "#exercise 2 - create a global seed only\n",
        "not_shuffled = tf.constant([\n",
        "    [1, 2],\n",
        "    [3, 4],\n",
        "    [5, 6]\n",
        "])\n",
        "\n",
        "tf.random.set_seed(1)\n",
        "shuffled = tf.random.shuffle(not_shuffled)\n",
        "shuffled, not_shuffled, not_shuffled == shuffled"
      ],
      "metadata": {
        "colab": {
          "base_uri": "https://localhost:8080/"
        },
        "id": "t2Sc96iIXuYr",
        "outputId": "e0434f5f-82ef-45ea-9c81-038326cf69e9"
      },
      "execution_count": null,
      "outputs": [
        {
          "output_type": "execute_result",
          "data": {
            "text/plain": [
              "(<tf.Tensor: shape=(3, 2), dtype=int32, numpy=\n",
              " array([[1, 2],\n",
              "        [5, 6],\n",
              "        [3, 4]], dtype=int32)>,\n",
              " <tf.Tensor: shape=(3, 2), dtype=int32, numpy=\n",
              " array([[1, 2],\n",
              "        [3, 4],\n",
              "        [5, 6]], dtype=int32)>,\n",
              " <tf.Tensor: shape=(3, 2), dtype=bool, numpy=\n",
              " array([[ True,  True],\n",
              "        [False, False],\n",
              "        [False, False]])>)"
            ]
          },
          "metadata": {},
          "execution_count": 11
        }
      ]
    },
    {
      "cell_type": "code",
      "source": [
        "#exercise 3 - create a global seed and operation level seed\n",
        "not_shuffled = tf.constant([\n",
        "    [1, 2],\n",
        "    [3, 4],\n",
        "    [5, 6]\n",
        "])\n",
        "\n",
        "tf.random.set_seed(1)\n",
        "shuffled = tf.random.shuffle(not_shuffled, seed=10)\n",
        "shuffled, not_shuffled, not_shuffled == shuffled"
      ],
      "metadata": {
        "colab": {
          "base_uri": "https://localhost:8080/"
        },
        "id": "MA4HAl9IbcLa",
        "outputId": "0677027b-e255-42fa-ecdc-7db97bcdf5f1"
      },
      "execution_count": null,
      "outputs": [
        {
          "output_type": "execute_result",
          "data": {
            "text/plain": [
              "(<tf.Tensor: shape=(3, 2), dtype=int32, numpy=\n",
              " array([[3, 4],\n",
              "        [5, 6],\n",
              "        [1, 2]], dtype=int32)>,\n",
              " <tf.Tensor: shape=(3, 2), dtype=int32, numpy=\n",
              " array([[1, 2],\n",
              "        [3, 4],\n",
              "        [5, 6]], dtype=int32)>,\n",
              " <tf.Tensor: shape=(3, 2), dtype=bool, numpy=\n",
              " array([[False, False],\n",
              "        [False, False],\n",
              "        [False, False]])>)"
            ]
          },
          "metadata": {},
          "execution_count": 12
        }
      ]
    },
    {
      "cell_type": "code",
      "source": [
        "#exercise 4 - create a global seed and operation level seed and a none operation level seed\n",
        "not_shuffled = tf.constant([\n",
        "    [1, 2],\n",
        "    [3, 4],\n",
        "    [5, 6]\n",
        "])\n",
        "\n",
        "tf.random.set_seed(1)\n",
        "shuffled_with_op_level = tf.random.shuffle(not_shuffled, seed=10)\n",
        "shuffled = tf.random.shuffle(not_shuffled)\n",
        "shuffled_with_op_level, shuffled, not_shuffled, not_shuffled == shuffled_with_op_level, not_shuffled == shuffled, shuffled == shuffled_with_op_level"
      ],
      "metadata": {
        "colab": {
          "base_uri": "https://localhost:8080/"
        },
        "id": "wnnCZaRdcMjE",
        "outputId": "28b1fbcb-1b68-4467-daa8-99d763a0dafe"
      },
      "execution_count": null,
      "outputs": [
        {
          "output_type": "execute_result",
          "data": {
            "text/plain": [
              "(<tf.Tensor: shape=(3, 2), dtype=int32, numpy=\n",
              " array([[3, 4],\n",
              "        [5, 6],\n",
              "        [1, 2]], dtype=int32)>,\n",
              " <tf.Tensor: shape=(3, 2), dtype=int32, numpy=\n",
              " array([[1, 2],\n",
              "        [5, 6],\n",
              "        [3, 4]], dtype=int32)>,\n",
              " <tf.Tensor: shape=(3, 2), dtype=int32, numpy=\n",
              " array([[1, 2],\n",
              "        [3, 4],\n",
              "        [5, 6]], dtype=int32)>,\n",
              " <tf.Tensor: shape=(3, 2), dtype=bool, numpy=\n",
              " array([[False, False],\n",
              "        [False, False],\n",
              "        [False, False]])>,\n",
              " <tf.Tensor: shape=(3, 2), dtype=bool, numpy=\n",
              " array([[ True,  True],\n",
              "        [False, False],\n",
              "        [False, False]])>,\n",
              " <tf.Tensor: shape=(3, 2), dtype=bool, numpy=\n",
              " array([[False, False],\n",
              "        [ True,  True],\n",
              "        [False, False]])>)"
            ]
          },
          "metadata": {},
          "execution_count": 13
        }
      ]
    },
    {
      "cell_type": "code",
      "source": [
        "#exercise 5 - testing tensor uniform examples\n",
        "tf.random.set_seed(1234)\n",
        "uniform_1 = tf.random.uniform(    \n",
        "    [1, 2],\n",
        "    [3, 4],\n",
        "    [5, 6])\n",
        "# uniform 2 and uniform 3 will have different values beacuse they use different operation level seeds\n",
        "uniform_2 = tf.random.uniform([1])\n",
        "uniform_3 = tf.random.uniform([1])\n",
        "uniform_1, uniform_2, uniform_3"
      ],
      "metadata": {
        "colab": {
          "base_uri": "https://localhost:8080/"
        },
        "id": "7GWy_PMYczpK",
        "outputId": "dfe42fe6-4d27-458b-892e-3129d3749b50"
      },
      "execution_count": null,
      "outputs": [
        {
          "output_type": "execute_result",
          "data": {
            "text/plain": [
              "(<tf.Tensor: shape=(1, 2), dtype=float32, numpy=array([[4.0760784, 4.7292376]], dtype=float32)>,\n",
              " <tf.Tensor: shape=(1,), dtype=float32, numpy=array([0.3253647], dtype=float32)>,\n",
              " <tf.Tensor: shape=(1,), dtype=float32, numpy=array([0.59750986], dtype=float32)>)"
            ]
          },
          "metadata": {},
          "execution_count": 14
        }
      ]
    },
    {
      "cell_type": "code",
      "source": [
        "#exercise 5 - testing tensor uniform examples with tensorflow notation methods\n",
        "\n",
        "@tf.function\n",
        "def g():\n",
        "  a = tf.random.uniform([1])\n",
        "  b = tf.random.uniform([1])\n",
        "  return a, b\n",
        "\n",
        "@tf.function\n",
        "def f():\n",
        "  a = tf.random.uniform([1])\n",
        "  b = tf.random.uniform([1])\n",
        "  return a, b\n",
        "\n",
        "g(), f(), g(), f()\n",
        "\n",
        "\n",
        "#1ST OUPUT\n",
        "#((<tf.Tensor: shape=(1,), dtype=float32, numpy=array([0.13047123], dtype=float32)>,\n",
        "#  <tf.Tensor: shape=(1,), dtype=float32, numpy=array([0.1689806], dtype=float32)>),\n",
        "# (<tf.Tensor: shape=(1,), dtype=float32, numpy=array([0.829064], dtype=float32)>,\n",
        "#  <tf.Tensor: shape=(1,), dtype=float32, numpy=array([0.23841548], dtype=float32)>))\n",
        "\n",
        "#2ND OUPUT without seed\n",
        "#((<tf.Tensor: shape=(1,), dtype=float32, numpy=array([0.13047123], dtype=float32)>,\n",
        "#  <tf.Tensor: shape=(1,), dtype=float32, numpy=array([0.1689806], dtype=float32)>),\n",
        "# (<tf.Tensor: shape=(1,), dtype=float32, numpy=array([0.13047123], dtype=float32)>,\n",
        "#  <tf.Tensor: shape=(1,), dtype=float32, numpy=array([0.1689806], dtype=float32)>))\n",
        "\n",
        "#3RD OUPUT with global seed affects both methods\n",
        "#((<tf.Tensor: shape=(1,), dtype=float32, numpy=array([0.81269646], dtype=float32)>,\n",
        "#  <tf.Tensor: shape=(1,), dtype=float32, numpy=array([0.05554414], dtype=float32)>),\n",
        "# (<tf.Tensor: shape=(1,), dtype=float32, numpy=array([0.81269646], dtype=float32)>,\n",
        "#  <tf.Tensor: shape=(1,), dtype=float32, numpy=array([0.05554414], dtype=float32)>))"
      ],
      "metadata": {
        "colab": {
          "base_uri": "https://localhost:8080/"
        },
        "id": "SABaacSFeKd5",
        "outputId": "63c7b059-2404-49c3-ebba-87cb9e459e25"
      },
      "execution_count": null,
      "outputs": [
        {
          "output_type": "execute_result",
          "data": {
            "text/plain": [
              "((<tf.Tensor: shape=(1,), dtype=float32, numpy=array([0.13047123], dtype=float32)>,\n",
              "  <tf.Tensor: shape=(1,), dtype=float32, numpy=array([0.1689806], dtype=float32)>),\n",
              " (<tf.Tensor: shape=(1,), dtype=float32, numpy=array([0.13047123], dtype=float32)>,\n",
              "  <tf.Tensor: shape=(1,), dtype=float32, numpy=array([0.1689806], dtype=float32)>),\n",
              " (<tf.Tensor: shape=(1,), dtype=float32, numpy=array([0.6087816], dtype=float32)>,\n",
              "  <tf.Tensor: shape=(1,), dtype=float32, numpy=array([0.7539084], dtype=float32)>),\n",
              " (<tf.Tensor: shape=(1,), dtype=float32, numpy=array([0.6087816], dtype=float32)>,\n",
              "  <tf.Tensor: shape=(1,), dtype=float32, numpy=array([0.7539084], dtype=float32)>))"
            ]
          },
          "metadata": {},
          "execution_count": 15
        }
      ]
    },
    {
      "cell_type": "markdown",
      "source": [
        "# Motivation behind shuffling the data in the dataset\n",
        "* Shuffling the data in a dataset can reduce the likelihood of the model learning patterns that are specific to the order of the data in the dataset.\n",
        "\n",
        "* Shuffling the data can increase the randomness and variety of the data seen by the model during training.\n",
        "\n",
        "* By shuffling the data, the model sees a more diverse set of examples during each epoch of training, which can help it learn more generalizable patterns that can be applied to new, unseen data.\n",
        "\n",
        "* Shuffling the data can be especially important when the data has a particular order, such as time series data or sorted data.\n",
        "\n",
        "* In TensorFlow, the `tf.data.Dataset.shuffle()` method can be used to shuffle the data in a dataset, which can be more memory-efficient and faster than shuffling the data outside of TensorFlow.\n",
        "\n",
        "* The `tf.data.Dataset.shuffle()` method takes an argument buffer_size, which specifies the number of elements from the dataset to use for shuffling. A larger buffer_size can result in a more randomized shuffle, but may also increase the memory usage and the time required to shuffle the data.\n",
        "\n",
        "* By default, the `tf.data.Dataset.shuffle()` method uses a random seed to ensure that the order of the shuffled data is the same across different runs of the program, unless a seed is explicitly specified."
      ],
      "metadata": {
        "id": "2lKM-UOxkHeU"
      }
    },
    {
      "cell_type": "markdown",
      "source": [
        "# Other way to produce tensors\n",
        "https://numpy.org/doc/stable/reference/index.html"
      ],
      "metadata": {
        "id": "KDbaiP6kpLMT"
      }
    },
    {
      "cell_type": "code",
      "source": [
        "tf.ones([3,3]), tf.ones([3,3], dtype=tf.int32), tf.ones([3, 3, 3], dtype=tf.int32)"
      ],
      "metadata": {
        "colab": {
          "base_uri": "https://localhost:8080/"
        },
        "id": "y0pe3xZzfZEt",
        "outputId": "fa80723c-8734-42fb-a1c3-80c55db9b98f"
      },
      "execution_count": null,
      "outputs": [
        {
          "output_type": "execute_result",
          "data": {
            "text/plain": [
              "(<tf.Tensor: shape=(3, 3), dtype=float32, numpy=\n",
              " array([[1., 1., 1.],\n",
              "        [1., 1., 1.],\n",
              "        [1., 1., 1.]], dtype=float32)>,\n",
              " <tf.Tensor: shape=(3, 3), dtype=int32, numpy=\n",
              " array([[1, 1, 1],\n",
              "        [1, 1, 1],\n",
              "        [1, 1, 1]], dtype=int32)>,\n",
              " <tf.Tensor: shape=(3, 3, 3), dtype=int32, numpy=\n",
              " array([[[1, 1, 1],\n",
              "         [1, 1, 1],\n",
              "         [1, 1, 1]],\n",
              " \n",
              "        [[1, 1, 1],\n",
              "         [1, 1, 1],\n",
              "         [1, 1, 1]],\n",
              " \n",
              "        [[1, 1, 1],\n",
              "         [1, 1, 1],\n",
              "         [1, 1, 1]]], dtype=int32)>)"
            ]
          },
          "metadata": {},
          "execution_count": 16
        }
      ]
    },
    {
      "cell_type": "code",
      "source": [
        "tf.zeros([10,10])"
      ],
      "metadata": {
        "colab": {
          "base_uri": "https://localhost:8080/"
        },
        "id": "19gmReqrqRvu",
        "outputId": "4d44d533-32ff-4345-edbb-6d723da3336a"
      },
      "execution_count": null,
      "outputs": [
        {
          "output_type": "execute_result",
          "data": {
            "text/plain": [
              "<tf.Tensor: shape=(10, 10), dtype=float32, numpy=\n",
              "array([[0., 0., 0., 0., 0., 0., 0., 0., 0., 0.],\n",
              "       [0., 0., 0., 0., 0., 0., 0., 0., 0., 0.],\n",
              "       [0., 0., 0., 0., 0., 0., 0., 0., 0., 0.],\n",
              "       [0., 0., 0., 0., 0., 0., 0., 0., 0., 0.],\n",
              "       [0., 0., 0., 0., 0., 0., 0., 0., 0., 0.],\n",
              "       [0., 0., 0., 0., 0., 0., 0., 0., 0., 0.],\n",
              "       [0., 0., 0., 0., 0., 0., 0., 0., 0., 0.],\n",
              "       [0., 0., 0., 0., 0., 0., 0., 0., 0., 0.],\n",
              "       [0., 0., 0., 0., 0., 0., 0., 0., 0., 0.],\n",
              "       [0., 0., 0., 0., 0., 0., 0., 0., 0., 0.]], dtype=float32)>"
            ]
          },
          "metadata": {},
          "execution_count": 17
        }
      ]
    },
    {
      "cell_type": "code",
      "source": [
        "import numpy as np\n",
        "\n",
        "array_1 = np.arange(1, 25, dtype=np.int32)\n",
        "array_1\n"
      ],
      "metadata": {
        "colab": {
          "base_uri": "https://localhost:8080/"
        },
        "id": "K2TdYMwtrLim",
        "outputId": "f7c5747f-de6b-4970-d3d1-8178b7597f91"
      },
      "execution_count": null,
      "outputs": [
        {
          "output_type": "execute_result",
          "data": {
            "text/plain": [
              "array([ 1,  2,  3,  4,  5,  6,  7,  8,  9, 10, 11, 12, 13, 14, 15, 16, 17,\n",
              "       18, 19, 20, 21, 22, 23, 24], dtype=int32)"
            ]
          },
          "metadata": {},
          "execution_count": 18
        }
      ]
    },
    {
      "cell_type": "code",
      "source": [
        "tensor_like_array_1 = tf.constant(array_1, shape=(8,3))\n",
        "tensor_like_array_1"
      ],
      "metadata": {
        "colab": {
          "base_uri": "https://localhost:8080/"
        },
        "id": "uoRmbTALrfKQ",
        "outputId": "58db0679-ddd6-4aea-c422-83d510d7c392"
      },
      "execution_count": null,
      "outputs": [
        {
          "output_type": "execute_result",
          "data": {
            "text/plain": [
              "<tf.Tensor: shape=(8, 3), dtype=int32, numpy=\n",
              "array([[ 1,  2,  3],\n",
              "       [ 4,  5,  6],\n",
              "       [ 7,  8,  9],\n",
              "       [10, 11, 12],\n",
              "       [13, 14, 15],\n",
              "       [16, 17, 18],\n",
              "       [19, 20, 21],\n",
              "       [22, 23, 24]], dtype=int32)>"
            ]
          },
          "metadata": {},
          "execution_count": 19
        }
      ]
    },
    {
      "cell_type": "markdown",
      "source": [
        "# Getting Dimensions from tensors\n",
        "* Shape \n",
        "\n",
        "```\n",
        "tensor.shape\n",
        "```\n",
        "\n",
        "\n",
        "* Rank\n",
        "\n",
        "```\n",
        "tensor.ndim\n",
        "```\n",
        "* Axis or dimension\n",
        "\n",
        "```\n",
        "tensor[0], tensor[1]\n",
        "```\n",
        "* Size\n",
        "\n",
        "```\n",
        "tf.size(tensor)\n",
        "```\n"
      ],
      "metadata": {
        "id": "UAxU-MTwJSgX"
      }
    },
    {
      "cell_type": "code",
      "source": [
        "# create a 4 dimension tensor\n",
        "four_dim_tensor = tf.zeros(shape=[2,3,4,5])\n",
        "four_dim_tensor"
      ],
      "metadata": {
        "colab": {
          "base_uri": "https://localhost:8080/"
        },
        "id": "NTSTd3bENstV",
        "outputId": "e125933b-ef06-4a51-a87f-272349bd424b"
      },
      "execution_count": null,
      "outputs": [
        {
          "output_type": "execute_result",
          "data": {
            "text/plain": [
              "<tf.Tensor: shape=(2, 3, 4, 5), dtype=float32, numpy=\n",
              "array([[[[0., 0., 0., 0., 0.],\n",
              "         [0., 0., 0., 0., 0.],\n",
              "         [0., 0., 0., 0., 0.],\n",
              "         [0., 0., 0., 0., 0.]],\n",
              "\n",
              "        [[0., 0., 0., 0., 0.],\n",
              "         [0., 0., 0., 0., 0.],\n",
              "         [0., 0., 0., 0., 0.],\n",
              "         [0., 0., 0., 0., 0.]],\n",
              "\n",
              "        [[0., 0., 0., 0., 0.],\n",
              "         [0., 0., 0., 0., 0.],\n",
              "         [0., 0., 0., 0., 0.],\n",
              "         [0., 0., 0., 0., 0.]]],\n",
              "\n",
              "\n",
              "       [[[0., 0., 0., 0., 0.],\n",
              "         [0., 0., 0., 0., 0.],\n",
              "         [0., 0., 0., 0., 0.],\n",
              "         [0., 0., 0., 0., 0.]],\n",
              "\n",
              "        [[0., 0., 0., 0., 0.],\n",
              "         [0., 0., 0., 0., 0.],\n",
              "         [0., 0., 0., 0., 0.],\n",
              "         [0., 0., 0., 0., 0.]],\n",
              "\n",
              "        [[0., 0., 0., 0., 0.],\n",
              "         [0., 0., 0., 0., 0.],\n",
              "         [0., 0., 0., 0., 0.],\n",
              "         [0., 0., 0., 0., 0.]]]], dtype=float32)>"
            ]
          },
          "metadata": {},
          "execution_count": 20
        }
      ]
    },
    {
      "cell_type": "code",
      "source": [
        "four_dim_tensor[0][0][0][0], four_dim_tensor[0][0][0], four_dim_tensor[0][0], four_dim_tensor[0]"
      ],
      "metadata": {
        "colab": {
          "base_uri": "https://localhost:8080/"
        },
        "id": "h8QXUiRoN_sC",
        "outputId": "b15025dd-a9cb-43e1-95c3-da3a524786d7"
      },
      "execution_count": null,
      "outputs": [
        {
          "output_type": "execute_result",
          "data": {
            "text/plain": [
              "(<tf.Tensor: shape=(), dtype=float32, numpy=0.0>,\n",
              " <tf.Tensor: shape=(5,), dtype=float32, numpy=array([0., 0., 0., 0., 0.], dtype=float32)>,\n",
              " <tf.Tensor: shape=(4, 5), dtype=float32, numpy=\n",
              " array([[0., 0., 0., 0., 0.],\n",
              "        [0., 0., 0., 0., 0.],\n",
              "        [0., 0., 0., 0., 0.],\n",
              "        [0., 0., 0., 0., 0.]], dtype=float32)>,\n",
              " <tf.Tensor: shape=(3, 4, 5), dtype=float32, numpy=\n",
              " array([[[0., 0., 0., 0., 0.],\n",
              "         [0., 0., 0., 0., 0.],\n",
              "         [0., 0., 0., 0., 0.],\n",
              "         [0., 0., 0., 0., 0.]],\n",
              " \n",
              "        [[0., 0., 0., 0., 0.],\n",
              "         [0., 0., 0., 0., 0.],\n",
              "         [0., 0., 0., 0., 0.],\n",
              "         [0., 0., 0., 0., 0.]],\n",
              " \n",
              "        [[0., 0., 0., 0., 0.],\n",
              "         [0., 0., 0., 0., 0.],\n",
              "         [0., 0., 0., 0., 0.],\n",
              "         [0., 0., 0., 0., 0.]]], dtype=float32)>)"
            ]
          },
          "metadata": {},
          "execution_count": 21
        }
      ]
    },
    {
      "cell_type": "code",
      "source": [
        "tf.size(four_dim_tensor), four_dim_tensor.ndim, four_dim_tensor.shape, four_dim_tensor "
      ],
      "metadata": {
        "colab": {
          "base_uri": "https://localhost:8080/"
        },
        "id": "ns33vMkuOlEc",
        "outputId": "dfd8a562-120c-4ef9-d904-a488eb826a9a"
      },
      "execution_count": null,
      "outputs": [
        {
          "output_type": "execute_result",
          "data": {
            "text/plain": [
              "(<tf.Tensor: shape=(), dtype=int32, numpy=120>,\n",
              " 4,\n",
              " TensorShape([2, 3, 4, 5]),\n",
              " <tf.Tensor: shape=(2, 3, 4, 5), dtype=float32, numpy=\n",
              " array([[[[0., 0., 0., 0., 0.],\n",
              "          [0., 0., 0., 0., 0.],\n",
              "          [0., 0., 0., 0., 0.],\n",
              "          [0., 0., 0., 0., 0.]],\n",
              " \n",
              "         [[0., 0., 0., 0., 0.],\n",
              "          [0., 0., 0., 0., 0.],\n",
              "          [0., 0., 0., 0., 0.],\n",
              "          [0., 0., 0., 0., 0.]],\n",
              " \n",
              "         [[0., 0., 0., 0., 0.],\n",
              "          [0., 0., 0., 0., 0.],\n",
              "          [0., 0., 0., 0., 0.],\n",
              "          [0., 0., 0., 0., 0.]]],\n",
              " \n",
              " \n",
              "        [[[0., 0., 0., 0., 0.],\n",
              "          [0., 0., 0., 0., 0.],\n",
              "          [0., 0., 0., 0., 0.],\n",
              "          [0., 0., 0., 0., 0.]],\n",
              " \n",
              "         [[0., 0., 0., 0., 0.],\n",
              "          [0., 0., 0., 0., 0.],\n",
              "          [0., 0., 0., 0., 0.],\n",
              "          [0., 0., 0., 0., 0.]],\n",
              " \n",
              "         [[0., 0., 0., 0., 0.],\n",
              "          [0., 0., 0., 0., 0.],\n",
              "          [0., 0., 0., 0., 0.],\n",
              "          [0., 0., 0., 0., 0.]]]], dtype=float32)>)"
            ]
          },
          "metadata": {},
          "execution_count": 22
        }
      ]
    },
    {
      "cell_type": "code",
      "source": [
        "# Getting ifnormation from a tensor\n",
        "print(\"Datatype of the tensor: \", four_dim_tensor.dtype)\n",
        "print(\"Number of dimensions (rank): \", four_dim_tensor.ndim)\n",
        "print(\"Shape of the tensor: \", four_dim_tensor.shape)\n",
        "print(\"Element along zero Axis: \", four_dim_tensor.shape[0])\n",
        "print(\"Element along last Axis: \", four_dim_tensor.shape[-1])\n",
        "#print(\"First elemen: t\", four_dim_tensor[0])\n",
        "#print(\"Tensor size (total number of elements): \", tf.size(four_dim_tensor))\n",
        "print(\"Tensor size (total number of elements using numpy): \", tf.size(four_dim_tensor).numpy())"
      ],
      "metadata": {
        "colab": {
          "base_uri": "https://localhost:8080/"
        },
        "id": "_8sqHCGtPqaX",
        "outputId": "b3dba4f4-244e-491f-b343-01bb15bc725d"
      },
      "execution_count": null,
      "outputs": [
        {
          "output_type": "stream",
          "name": "stdout",
          "text": [
            "Datatype of the tensor:  <dtype: 'float32'>\n",
            "Number of dimensions (rank):  4\n",
            "Shape of the tensor:  (2, 3, 4, 5)\n",
            "Element along zero Axis:  2\n",
            "Element along last Axis:  5\n",
            "Tensor size (total number of elements using numpy):  120\n"
          ]
        }
      ]
    },
    {
      "cell_type": "markdown",
      "source": [
        "# Indexing Tensors\n",
        "Tensors can be indexed just like python lists"
      ],
      "metadata": {
        "id": "VXDmhJKUR2eQ"
      }
    },
    {
      "cell_type": "code",
      "source": [
        "some_list = [1,2,3,4]\n",
        "some_list[:2]"
      ],
      "metadata": {
        "colab": {
          "base_uri": "https://localhost:8080/"
        },
        "id": "6WSftaGxSb54",
        "outputId": "2e5d9ba7-b9d4-4ace-d2fc-b18bb0613382"
      },
      "execution_count": null,
      "outputs": [
        {
          "output_type": "execute_result",
          "data": {
            "text/plain": [
              "[1, 2]"
            ]
          },
          "metadata": {},
          "execution_count": 24
        }
      ]
    },
    {
      "cell_type": "code",
      "source": [
        "big_tensor = [[[[0., 0., 0., 0., 0.],\n",
        "         [0., 0., 0., 0., 0.],\n",
        "         [0., 0., 0., 0., 0.],\n",
        "         [0., 0., 0., 0., 0.]],\n",
        "\n",
        "        [[0., 0., 0., 0., 0.],\n",
        "         [0., 0., 0., 0., 0.],\n",
        "         [0., 0., 0., 0., 0.],\n",
        "         [0., 0., 0., 0., 0.]],\n",
        "\n",
        "        [[0., 0., 0., 0., 0.],\n",
        "         [0., 0., 0., 0., 0.],\n",
        "         [0., 0., 0., 0., 0.],\n",
        "         [0., 0., 0., 0., 0.]]],\n",
        "\n",
        "\n",
        "       [[[0., 0., 0., 0., 0.],\n",
        "         [0., 0., 0., 0., 0.],\n",
        "         [0., 0., 0., 0., 0.],\n",
        "         [0., 0., 0., 0., 0.]],\n",
        "\n",
        "        [[0., 0., 0., 0., 0.],\n",
        "         [0., 0., 0., 0., 0.],\n",
        "         [0., 0., 0., 0., 0.],\n",
        "         [0., 0., 0., 0., 0.]],\n",
        "\n",
        "        [[0., 0., 0., 0., 0.],\n",
        "         [0., 0., 0., 0., 0.],\n",
        "         [0., 0., 0., 0., 0.],\n",
        "         [0., 0., 0., 0., 0.]]]]\n",
        "# big_tensor[:2, :2, :2, :2] # TypeError: list indices must be integers or slices, not tuple"
      ],
      "metadata": {
        "id": "WuoQb1SUTHvw"
      },
      "execution_count": null,
      "outputs": []
    },
    {
      "cell_type": "code",
      "source": [
        "four_dim_tensor"
      ],
      "metadata": {
        "colab": {
          "base_uri": "https://localhost:8080/"
        },
        "id": "I3ibuNyvSuem",
        "outputId": "9b9995fd-10c5-48bb-f7cc-e59a7d9959ee"
      },
      "execution_count": null,
      "outputs": [
        {
          "output_type": "execute_result",
          "data": {
            "text/plain": [
              "<tf.Tensor: shape=(2, 3, 4, 5), dtype=float32, numpy=\n",
              "array([[[[0., 0., 0., 0., 0.],\n",
              "         [0., 0., 0., 0., 0.],\n",
              "         [0., 0., 0., 0., 0.],\n",
              "         [0., 0., 0., 0., 0.]],\n",
              "\n",
              "        [[0., 0., 0., 0., 0.],\n",
              "         [0., 0., 0., 0., 0.],\n",
              "         [0., 0., 0., 0., 0.],\n",
              "         [0., 0., 0., 0., 0.]],\n",
              "\n",
              "        [[0., 0., 0., 0., 0.],\n",
              "         [0., 0., 0., 0., 0.],\n",
              "         [0., 0., 0., 0., 0.],\n",
              "         [0., 0., 0., 0., 0.]]],\n",
              "\n",
              "\n",
              "       [[[0., 0., 0., 0., 0.],\n",
              "         [0., 0., 0., 0., 0.],\n",
              "         [0., 0., 0., 0., 0.],\n",
              "         [0., 0., 0., 0., 0.]],\n",
              "\n",
              "        [[0., 0., 0., 0., 0.],\n",
              "         [0., 0., 0., 0., 0.],\n",
              "         [0., 0., 0., 0., 0.],\n",
              "         [0., 0., 0., 0., 0.]],\n",
              "\n",
              "        [[0., 0., 0., 0., 0.],\n",
              "         [0., 0., 0., 0., 0.],\n",
              "         [0., 0., 0., 0., 0.],\n",
              "         [0., 0., 0., 0., 0.]]]], dtype=float32)>"
            ]
          },
          "metadata": {},
          "execution_count": 26
        }
      ]
    },
    {
      "cell_type": "code",
      "source": [
        "# Indexing tensors\n",
        "four_dim_tensor[:2, :2, :2, :2].numpy()"
      ],
      "metadata": {
        "colab": {
          "base_uri": "https://localhost:8080/"
        },
        "id": "Rzz6OMI1RwS-",
        "outputId": "8f6db2e4-57d2-41e4-8922-f08bc16d1fb7"
      },
      "execution_count": null,
      "outputs": [
        {
          "output_type": "execute_result",
          "data": {
            "text/plain": [
              "array([[[[0., 0.],\n",
              "         [0., 0.]],\n",
              "\n",
              "        [[0., 0.],\n",
              "         [0., 0.]]],\n",
              "\n",
              "\n",
              "       [[[0., 0.],\n",
              "         [0., 0.]],\n",
              "\n",
              "        [[0., 0.],\n",
              "         [0., 0.]]]], dtype=float32)"
            ]
          },
          "metadata": {},
          "execution_count": 27
        }
      ]
    },
    {
      "cell_type": "code",
      "source": [
        "# create a rank 2 tensor\n",
        "rank_2_tensor_zeros = tf.zeros(shape=[3,3])\n",
        "rank_2_tensor = tf.constant([\n",
        "    [1,2],\n",
        "    [3,4]\n",
        "])\n",
        "rank_2_tensor_zeros, rank_2_tensor, rank_2_tensor.ndim, rank_2_tensor.shape"
      ],
      "metadata": {
        "colab": {
          "base_uri": "https://localhost:8080/"
        },
        "id": "WwwlnMXrUcnR",
        "outputId": "ef172320-0725-4408-85e9-2f9163fb1e24"
      },
      "execution_count": null,
      "outputs": [
        {
          "output_type": "execute_result",
          "data": {
            "text/plain": [
              "(<tf.Tensor: shape=(3, 3), dtype=float32, numpy=\n",
              " array([[0., 0., 0.],\n",
              "        [0., 0., 0.],\n",
              "        [0., 0., 0.]], dtype=float32)>,\n",
              " <tf.Tensor: shape=(2, 2), dtype=int32, numpy=\n",
              " array([[1, 2],\n",
              "        [3, 4]], dtype=int32)>,\n",
              " 2,\n",
              " TensorShape([2, 2]))"
            ]
          },
          "metadata": {},
          "execution_count": 28
        }
      ]
    },
    {
      "cell_type": "code",
      "source": [
        "# get the last item of each row of the tensor\n",
        "rank_2_tensor[:,-1]"
      ],
      "metadata": {
        "colab": {
          "base_uri": "https://localhost:8080/"
        },
        "id": "0sTJ392YVbfH",
        "outputId": "1f424d09-e237-436c-82bf-d8f63c575b47"
      },
      "execution_count": null,
      "outputs": [
        {
          "output_type": "execute_result",
          "data": {
            "text/plain": [
              "<tf.Tensor: shape=(2,), dtype=int32, numpy=array([2, 4], dtype=int32)>"
            ]
          },
          "metadata": {},
          "execution_count": 29
        }
      ]
    },
    {
      "cell_type": "code",
      "source": [
        "# add in an extra dimension to our rank 2 tensor\n",
        "rank_3_tensor = rank_2_tensor[..., tf.newaxis]\n",
        "rank_3_tensor\n"
      ],
      "metadata": {
        "colab": {
          "base_uri": "https://localhost:8080/"
        },
        "id": "gmkevhjTV84A",
        "outputId": "f551275e-6cff-49bf-d73f-891804b04107"
      },
      "execution_count": null,
      "outputs": [
        {
          "output_type": "execute_result",
          "data": {
            "text/plain": [
              "<tf.Tensor: shape=(2, 2, 1), dtype=int32, numpy=\n",
              "array([[[1],\n",
              "        [2]],\n",
              "\n",
              "       [[3],\n",
              "        [4]]], dtype=int32)>"
            ]
          },
          "metadata": {},
          "execution_count": 30
        }
      ]
    },
    {
      "cell_type": "code",
      "source": [
        "# alternative to tf.newaxis\n",
        "rank_3_tensor_alt = tf.expand_dims(rank_2_tensor, axis=-1) # -1 expands final axis\n",
        "rank_3_tensor_alt"
      ],
      "metadata": {
        "colab": {
          "base_uri": "https://localhost:8080/"
        },
        "id": "vcVhoDwRW243",
        "outputId": "7e77ebe3-15e7-4563-df35-96852c94703b"
      },
      "execution_count": null,
      "outputs": [
        {
          "output_type": "execute_result",
          "data": {
            "text/plain": [
              "<tf.Tensor: shape=(2, 2, 1), dtype=int32, numpy=\n",
              "array([[[1],\n",
              "        [2]],\n",
              "\n",
              "       [[3],\n",
              "        [4]]], dtype=int32)>"
            ]
          },
          "metadata": {},
          "execution_count": 31
        }
      ]
    },
    {
      "cell_type": "code",
      "source": [
        "# Expand 0-axis  \n",
        "rank_3_tensor_alt = tf.expand_dims(rank_2_tensor, axis=0) # 0 expands first axis\n",
        "rank_3_tensor_alt"
      ],
      "metadata": {
        "colab": {
          "base_uri": "https://localhost:8080/"
        },
        "id": "jVx85PAPXehU",
        "outputId": "155a38e3-ef22-4c59-b235-addffb876aaa"
      },
      "execution_count": null,
      "outputs": [
        {
          "output_type": "execute_result",
          "data": {
            "text/plain": [
              "<tf.Tensor: shape=(1, 2, 2), dtype=int32, numpy=\n",
              "array([[[1, 2],\n",
              "        [3, 4]]], dtype=int32)>"
            ]
          },
          "metadata": {},
          "execution_count": 32
        }
      ]
    },
    {
      "cell_type": "markdown",
      "source": [
        "# Manipulating tensors with basic operations\n",
        "**Basic Operations**\n",
        "> `+,- *, /`\n"
      ],
      "metadata": {
        "id": "kuXNra8hZFhl"
      }
    },
    {
      "cell_type": "code",
      "source": [
        "# You can add values to a tensor using addition operator\n",
        "tensor = tf.constant([\n",
        "    [1, 2], \n",
        "    [3, 4]\n",
        "])\n",
        "(tensor * 10 + 1 - 2)/2"
      ],
      "metadata": {
        "colab": {
          "base_uri": "https://localhost:8080/"
        },
        "id": "lS8bYj3QZEmM",
        "outputId": "b29bd756-03a8-4170-88b4-13f0c28fc898"
      },
      "execution_count": null,
      "outputs": [
        {
          "output_type": "execute_result",
          "data": {
            "text/plain": [
              "<tf.Tensor: shape=(2, 2), dtype=float64, numpy=\n",
              "array([[ 4.5,  9.5],\n",
              "       [14.5, 19.5]])>"
            ]
          },
          "metadata": {},
          "execution_count": 33
        }
      ]
    },
    {
      "cell_type": "code",
      "source": [
        "tf.multiply(tensor, 10)"
      ],
      "metadata": {
        "colab": {
          "base_uri": "https://localhost:8080/"
        },
        "id": "YDzR0ZQabQzq",
        "outputId": "4fbce7c5-3b68-44e2-f831-dc5e3e2dfc93"
      },
      "execution_count": null,
      "outputs": [
        {
          "output_type": "execute_result",
          "data": {
            "text/plain": [
              "<tf.Tensor: shape=(2, 2), dtype=int32, numpy=\n",
              "array([[10, 20],\n",
              "       [30, 40]], dtype=int32)>"
            ]
          },
          "metadata": {},
          "execution_count": 34
        }
      ]
    },
    {
      "cell_type": "code",
      "source": [
        "tf.math.add(tensor, 10)"
      ],
      "metadata": {
        "colab": {
          "base_uri": "https://localhost:8080/"
        },
        "id": "0e20aYceboRl",
        "outputId": "6aa0c104-0f98-488c-f638-7712a7a89b43"
      },
      "execution_count": null,
      "outputs": [
        {
          "output_type": "execute_result",
          "data": {
            "text/plain": [
              "<tf.Tensor: shape=(2, 2), dtype=int32, numpy=\n",
              "array([[11, 12],\n",
              "       [13, 14]], dtype=int32)>"
            ]
          },
          "metadata": {},
          "execution_count": 35
        }
      ]
    },
    {
      "cell_type": "code",
      "source": [],
      "metadata": {
        "id": "kz9gtriIb5Co"
      },
      "execution_count": null,
      "outputs": []
    },
    {
      "cell_type": "markdown",
      "source": [
        "**Matrix Multiplication**\n",
        "\n",
        "In ML one of the most common operations is the matrix multiplication\n",
        "http://matrixmultiplication.xyz/\n",
        "https://www.tensorflow.org/api_docs/python/tf/linalg/matmul .\n",
        "\n",
        "- The input tensors for matrix multiplication in TensorFlow must have a rank of at least 2.\n",
        "- The inner 2 dimensions of the input tensors must specify valid matrix multiplication dimensions.\n",
        "- Any further outer dimensions of the input tensors must specify matching batch sizes.\n",
        "- Both matrices must be of the same type, with supported types including bfloat16, float16, float32, float64, int32, int64, complex64, and complex128.\n",
        "- Either matrix can be transposed or adjointed on the fly by setting the corresponding flag to True (which is False by default).\n",
        "- If one or both matrices contain many zeros, a more efficient multiplication algorithm can be used by setting the corresponding a_is_sparse or b_is_sparse flag to True (which is also False by default).\n",
        "- This optimization is only available for plain matrices (rank-2 tensors) with datatypes bfloat16 or float32."
      ],
      "metadata": {
        "id": "l1XGXruwb6lL"
      }
    },
    {
      "cell_type": "code",
      "source": [
        "tf.matmul(tensor, tensor)"
      ],
      "metadata": {
        "colab": {
          "base_uri": "https://localhost:8080/"
        },
        "id": "MyVwUuDJb9qM",
        "outputId": "8af58a8f-f2ad-4985-a4e0-c1cdbfb93205"
      },
      "execution_count": null,
      "outputs": [
        {
          "output_type": "execute_result",
          "data": {
            "text/plain": [
              "<tf.Tensor: shape=(2, 2), dtype=int32, numpy=\n",
              "array([[ 7, 10],\n",
              "       [15, 22]], dtype=int32)>"
            ]
          },
          "metadata": {},
          "execution_count": 36
        }
      ]
    },
    {
      "cell_type": "code",
      "source": [
        "tensor @ tensor"
      ],
      "metadata": {
        "colab": {
          "base_uri": "https://localhost:8080/"
        },
        "id": "oQJPCgfZl49x",
        "outputId": "469558b3-d0f0-4e72-edac-ce58b4d0c08c"
      },
      "execution_count": null,
      "outputs": [
        {
          "output_type": "execute_result",
          "data": {
            "text/plain": [
              "<tf.Tensor: shape=(2, 2), dtype=int32, numpy=\n",
              "array([[ 7, 10],\n",
              "       [15, 22]], dtype=int32)>"
            ]
          },
          "metadata": {},
          "execution_count": 37
        }
      ]
    },
    {
      "cell_type": "markdown",
      "source": [
        "📖 Resource: https://www.mathsisfun.com/algebra/matrix-multiplying.html"
      ],
      "metadata": {
        "id": "evBbbfETmsNX"
      }
    },
    {
      "cell_type": "markdown",
      "source": [
        "\n",
        "```\n",
        "X = tf.constant([\n",
        "    [1,2,3],\n",
        "    [4,5,6],\n",
        "    [7,8,9],\n",
        "])\n",
        "\n",
        "Y = tf.constant([\n",
        "    [4,5,6],\n",
        "    [7,8,9],\n",
        "    [2,22,0],\n",
        "])\n",
        "\n",
        "Z = tf.constant([\n",
        "    [1,2, 4],\n",
        "    [4,5, 3]\n",
        "])\n",
        "Z, tf.reshape(Z, (3, 2 )), tf.transpose(Z), tf.matmul(Y, tf.reshape(Z, (3, 2 )))\n",
        "```\n",
        "\n"
      ],
      "metadata": {
        "id": "Lw4vnvDruy8M"
      }
    },
    {
      "cell_type": "code",
      "source": [
        "X = tf.constant([\n",
        "    [1,2,3],\n",
        "    [4,5,6],\n",
        "    [7,8,9],\n",
        "])\n",
        "\n",
        "Y = tf.constant([\n",
        "    [4,5,6],\n",
        "    [7,8,9],\n",
        "    [2,22,0],\n",
        "])\n",
        "\n",
        "Z = tf.constant([\n",
        "    [1,2, 4],\n",
        "    [4,5, 3]\n",
        "])\n",
        "\n",
        "Z, tf.reshape(Z, (3, 2 )), tf.transpose(Z), tf.matmul(Y, tf.reshape(Z, (3, 2 )))"
      ],
      "metadata": {
        "colab": {
          "base_uri": "https://localhost:8080/"
        },
        "id": "ReB0qNEbo6d5",
        "outputId": "ea6e18ce-2020-4162-eaee-670d394bc172"
      },
      "execution_count": null,
      "outputs": [
        {
          "output_type": "execute_result",
          "data": {
            "text/plain": [
              "(<tf.Tensor: shape=(2, 3), dtype=int32, numpy=\n",
              " array([[1, 2, 4],\n",
              "        [4, 5, 3]], dtype=int32)>,\n",
              " <tf.Tensor: shape=(3, 2), dtype=int32, numpy=\n",
              " array([[1, 2],\n",
              "        [4, 4],\n",
              "        [5, 3]], dtype=int32)>,\n",
              " <tf.Tensor: shape=(3, 2), dtype=int32, numpy=\n",
              " array([[1, 4],\n",
              "        [2, 5],\n",
              "        [4, 3]], dtype=int32)>,\n",
              " <tf.Tensor: shape=(3, 2), dtype=int32, numpy=\n",
              " array([[54, 46],\n",
              "        [84, 73],\n",
              "        [90, 92]], dtype=int32)>)"
            ]
          },
          "metadata": {},
          "execution_count": 38
        }
      ]
    },
    {
      "cell_type": "code",
      "source": [
        "# repeat class 26\n",
        "tf.tensordot(X,Y, axes=1), X@Y\n"
      ],
      "metadata": {
        "colab": {
          "base_uri": "https://localhost:8080/"
        },
        "id": "VDKTWDDTrMAW",
        "outputId": "792535bb-7900-4a71-b1df-a339c39ab143"
      },
      "execution_count": null,
      "outputs": [
        {
          "output_type": "execute_result",
          "data": {
            "text/plain": [
              "(<tf.Tensor: shape=(3, 3), dtype=int32, numpy=\n",
              " array([[ 24,  87,  24],\n",
              "        [ 63, 192,  69],\n",
              "        [102, 297, 114]], dtype=int32)>,\n",
              " <tf.Tensor: shape=(3, 3), dtype=int32, numpy=\n",
              " array([[ 24,  87,  24],\n",
              "        [ 63, 192,  69],\n",
              "        [102, 297, 114]], dtype=int32)>)"
            ]
          },
          "metadata": {},
          "execution_count": 39
        }
      ]
    },
    {
      "cell_type": "markdown",
      "source": [
        "# Changing the datatype of a tensor"
      ],
      "metadata": {
        "id": "fOA67hczxyPe"
      }
    },
    {
      "cell_type": "code",
      "source": [
        "A1 = tf.constant([1.1,2.2])\n",
        "B1 = tf.constant([1,2])\n",
        "A1.dtype, B1.dtype"
      ],
      "metadata": {
        "colab": {
          "base_uri": "https://localhost:8080/"
        },
        "id": "uSKfhCtvvLY_",
        "outputId": "bdec97de-f93e-4aa1-80b9-6d67bc0ad2b0"
      },
      "execution_count": null,
      "outputs": [
        {
          "output_type": "execute_result",
          "data": {
            "text/plain": [
              "(tf.float32, tf.int32)"
            ]
          },
          "metadata": {},
          "execution_count": 40
        }
      ]
    },
    {
      "cell_type": "code",
      "source": [
        "C1 = tf.cast(A1, dtype=tf.float16)\n",
        "D1 = tf.cast(B1, dtype=tf.int16)\n",
        "C1, C1.dtype, D1, D1.dtype"
      ],
      "metadata": {
        "colab": {
          "base_uri": "https://localhost:8080/"
        },
        "id": "sy_rvGPJx4-b",
        "outputId": "9ddc6585-8291-4596-ff1d-592d5f712870"
      },
      "execution_count": null,
      "outputs": [
        {
          "output_type": "execute_result",
          "data": {
            "text/plain": [
              "(<tf.Tensor: shape=(2,), dtype=float16, numpy=array([1.1, 2.2], dtype=float16)>,\n",
              " tf.float16,\n",
              " <tf.Tensor: shape=(2,), dtype=int16, numpy=array([1, 2], dtype=int16)>,\n",
              " tf.int16)"
            ]
          },
          "metadata": {},
          "execution_count": 41
        }
      ]
    },
    {
      "cell_type": "markdown",
      "source": [
        "# Agreggation Tensors\n",
        "Aggregation Tensors = condensing them from multiple valiues down to a smaller amount of values"
      ],
      "metadata": {
        "id": "2knG4QLv4Fg0"
      }
    },
    {
      "cell_type": "code",
      "source": [
        "E1 = tf.constant([-1.,-2.])\n",
        "tf.abs(C1), C1, tf.abs(E1), E1"
      ],
      "metadata": {
        "colab": {
          "base_uri": "https://localhost:8080/"
        },
        "id": "06Ugr_aW4E07",
        "outputId": "9c4c14a1-bdd3-4c76-eafe-c6ec574b55d4"
      },
      "execution_count": null,
      "outputs": [
        {
          "output_type": "execute_result",
          "data": {
            "text/plain": [
              "(<tf.Tensor: shape=(2,), dtype=float16, numpy=array([1.1, 2.2], dtype=float16)>,\n",
              " <tf.Tensor: shape=(2,), dtype=float16, numpy=array([1.1, 2.2], dtype=float16)>,\n",
              " <tf.Tensor: shape=(2,), dtype=float32, numpy=array([1., 2.], dtype=float32)>,\n",
              " <tf.Tensor: shape=(2,), dtype=float32, numpy=array([-1., -2.], dtype=float32)>)"
            ]
          },
          "metadata": {},
          "execution_count": 42
        }
      ]
    },
    {
      "cell_type": "markdown",
      "source": [
        "Let's go though the following forms of aggregation:\n",
        "- get the minimum\n",
        "- get the maximum\n",
        "- get the sum of a tensor\n",
        "- get the mean of a tensor"
      ],
      "metadata": {
        "id": "x5tfZq2x4_2Z"
      }
    },
    {
      "cell_type": "markdown",
      "source": [
        "E = tf.constant(np.random.randint(0, 100, size=50))\n",
        "E"
      ],
      "metadata": {
        "id": "5B2xZ7bA4V9y"
      }
    },
    {
      "cell_type": "code",
      "source": [
        "E = tf.constant(np.random.randint(0, 100, size=50))\n",
        "E\n"
      ],
      "metadata": {
        "colab": {
          "base_uri": "https://localhost:8080/"
        },
        "id": "Whod-RrUL5RX",
        "outputId": "29955056-37f5-4698-9b9c-e4ea19c68966"
      },
      "execution_count": null,
      "outputs": [
        {
          "output_type": "execute_result",
          "data": {
            "text/plain": [
              "<tf.Tensor: shape=(50,), dtype=int64, numpy=\n",
              "array([ 3, 67, 45, 91, 57, 40, 11, 78, 53, 51, 73, 79, 74,  4, 43, 18,  5,\n",
              "       64, 86, 70, 65, 54, 68, 93, 37, 43,  1, 80, 32, 18, 72, 19, 79, 41,\n",
              "       76, 13, 17, 76, 18, 60, 69, 73, 24, 13, 98,  7, 93, 42, 57,  8])>"
            ]
          },
          "metadata": {},
          "execution_count": 43
        }
      ]
    },
    {
      "cell_type": "code",
      "source": [
        "tf.size(E), E.ndim, E.shape, np.min(E), tf.reduce_min(E), np.max(E), np.mean(E), np.sum(E), tf.reduce_sum(E)"
      ],
      "metadata": {
        "colab": {
          "base_uri": "https://localhost:8080/"
        },
        "id": "CX3GMEqHL6iO",
        "outputId": "3ade0419-7d1a-4c7c-fde7-1c7a892f9531"
      },
      "execution_count": null,
      "outputs": [
        {
          "output_type": "execute_result",
          "data": {
            "text/plain": [
              "(<tf.Tensor: shape=(), dtype=int32, numpy=50>,\n",
              " 1,\n",
              " TensorShape([50]),\n",
              " 1,\n",
              " <tf.Tensor: shape=(), dtype=int64, numpy=1>,\n",
              " 98,\n",
              " 49.16,\n",
              " 2458,\n",
              " <tf.Tensor: shape=(), dtype=int64, numpy=2458>)"
            ]
          },
          "metadata": {},
          "execution_count": 44
        }
      ]
    },
    {
      "cell_type": "code",
      "source": [
        "F = tf.constant([np.random.randint(0, 100, size=3), np.random.randint(0, 100, size=3)])\n",
        "F"
      ],
      "metadata": {
        "colab": {
          "base_uri": "https://localhost:8080/"
        },
        "id": "O6sa6JvFDsS7",
        "outputId": "73792deb-15ac-4ee3-c07e-4d3016bb86c5"
      },
      "execution_count": null,
      "outputs": [
        {
          "output_type": "execute_result",
          "data": {
            "text/plain": [
              "<tf.Tensor: shape=(2, 3), dtype=int32, numpy=\n",
              "array([[48,  6,  3],\n",
              "       [16, 52, 52]], dtype=int32)>"
            ]
          },
          "metadata": {},
          "execution_count": 45
        }
      ]
    },
    {
      "cell_type": "code",
      "source": [
        "# get variance\n",
        "# needs to be complex or float values\n",
        "tf.math.reduce_variance(tf.cast(F, dtype=tf.float32))"
      ],
      "metadata": {
        "colab": {
          "base_uri": "https://localhost:8080/"
        },
        "id": "7qEOg9dmEMAu",
        "outputId": "623adc49-b8c0-436d-e07b-f3d988a21ba1"
      },
      "execution_count": null,
      "outputs": [
        {
          "output_type": "execute_result",
          "data": {
            "text/plain": [
              "<tf.Tensor: shape=(), dtype=float32, numpy=465.25>"
            ]
          },
          "metadata": {},
          "execution_count": 46
        }
      ]
    },
    {
      "cell_type": "code",
      "source": [
        "# get deviation\n",
        "# need to be complex or float \n",
        "tf.math.reduce_std(tf.cast(F, dtype=tf.float16))"
      ],
      "metadata": {
        "colab": {
          "base_uri": "https://localhost:8080/"
        },
        "id": "ETeCeWMhEvvD",
        "outputId": "d4717ea6-50ad-40c4-dfc4-dfbd0c186b70"
      },
      "execution_count": null,
      "outputs": [
        {
          "output_type": "execute_result",
          "data": {
            "text/plain": [
              "<tf.Tensor: shape=(), dtype=float16, numpy=21.56>"
            ]
          },
          "metadata": {},
          "execution_count": 47
        }
      ]
    },
    {
      "cell_type": "code",
      "source": [
        "# get max value \n",
        "tf.reduce_max(F)"
      ],
      "metadata": {
        "colab": {
          "base_uri": "https://localhost:8080/"
        },
        "id": "rX66QDfRFIbQ",
        "outputId": "03adf9dd-69b8-43b9-da86-893b2243d0ae"
      },
      "execution_count": null,
      "outputs": [
        {
          "output_type": "execute_result",
          "data": {
            "text/plain": [
              "<tf.Tensor: shape=(), dtype=int32, numpy=52>"
            ]
          },
          "metadata": {},
          "execution_count": 48
        }
      ]
    },
    {
      "cell_type": "code",
      "source": [
        "# get max from the first dimension\n",
        "tf.reduce_max(F, 0), F.ndim"
      ],
      "metadata": {
        "colab": {
          "base_uri": "https://localhost:8080/"
        },
        "id": "sfvsEXbtFvQP",
        "outputId": "ac4898bf-8cca-4d45-d32e-f917f0f6ac10"
      },
      "execution_count": null,
      "outputs": [
        {
          "output_type": "execute_result",
          "data": {
            "text/plain": [
              "(<tf.Tensor: shape=(3,), dtype=int32, numpy=array([48, 52, 52], dtype=int32)>,\n",
              " 2)"
            ]
          },
          "metadata": {},
          "execution_count": 49
        }
      ]
    },
    {
      "cell_type": "code",
      "source": [
        "#get the tensor variance with math and tf probability\n",
        "import tensorflow_probability as tfp\n",
        "tfp.stats.variance(F, None), tf.math.reduce_variance(tf.cast(F, dtype=tf.float16))"
      ],
      "metadata": {
        "colab": {
          "base_uri": "https://localhost:8080/"
        },
        "id": "G4_L7u23G2g4",
        "outputId": "74a47fde-1a3f-4b42-91e1-59633805a4bc"
      },
      "execution_count": null,
      "outputs": [
        {
          "output_type": "execute_result",
          "data": {
            "text/plain": [
              "(<tf.Tensor: shape=(), dtype=int32, numpy=465>,\n",
              " <tf.Tensor: shape=(), dtype=float16, numpy=465.2>)"
            ]
          },
          "metadata": {},
          "execution_count": 50
        }
      ]
    },
    {
      "cell_type": "code",
      "source": [
        "# get tensor variation from first dimension/axis\n",
        "tfp.stats.variance(F, 0), tf.math.reduce_variance(tf.cast(F, dtype=tf.float16), 0)"
      ],
      "metadata": {
        "colab": {
          "base_uri": "https://localhost:8080/"
        },
        "id": "HL7P9RXvHtXw",
        "outputId": "84e6d3fc-0853-4a10-a206-975e16b4e4eb"
      },
      "execution_count": null,
      "outputs": [
        {
          "output_type": "execute_result",
          "data": {
            "text/plain": [
              "(<tf.Tensor: shape=(3,), dtype=int32, numpy=array([256, 529, 600], dtype=int32)>,\n",
              " <tf.Tensor: shape=(3,), dtype=float16, numpy=array([256., 529., 600.], dtype=float16)>)"
            ]
          },
          "metadata": {},
          "execution_count": 51
        }
      ]
    },
    {
      "cell_type": "markdown",
      "source": [
        "🛠 **Exercise** - find variance and standard deviation of our E tensor using tensoflow methods"
      ],
      "metadata": {
        "id": "4OO7ID6dN55e"
      }
    },
    {
      "cell_type": "code",
      "source": [
        "import tensorflow_probability as tfp\n",
        "# find variance\n",
        "tfp.stats.variance(E)"
      ],
      "metadata": {
        "colab": {
          "base_uri": "https://localhost:8080/"
        },
        "id": "t9bp6dqlOHAs",
        "outputId": "4642f397-2a10-42cd-e271-e113f6b184b6"
      },
      "execution_count": null,
      "outputs": [
        {
          "output_type": "execute_result",
          "data": {
            "text/plain": [
              "<tf.Tensor: shape=(), dtype=int64, numpy=821>"
            ]
          },
          "metadata": {},
          "execution_count": 52
        }
      ]
    },
    {
      "cell_type": "code",
      "source": [
        "# find standard deviation\n",
        "E1 = tf.cast(E, dtype=tf.float32)\n",
        "tf.math.reduce_std(E1)"
      ],
      "metadata": {
        "colab": {
          "base_uri": "https://localhost:8080/"
        },
        "id": "yYiny78OPUEH",
        "outputId": "46bef6ce-c27b-4018-fc6b-56c5a5f29541"
      },
      "execution_count": null,
      "outputs": [
        {
          "output_type": "execute_result",
          "data": {
            "text/plain": [
              "<tf.Tensor: shape=(), dtype=float32, numpy=28.663816>"
            ]
          },
          "metadata": {},
          "execution_count": 53
        }
      ]
    },
    {
      "cell_type": "markdown",
      "source": [
        "# Find the positional maximum and minimum"
      ],
      "metadata": {
        "id": "c8f4WhVHQhbH"
      }
    },
    {
      "cell_type": "code",
      "source": [
        "tf.random.set_seed(42)\n",
        "G = tf.random.uniform(shape=(50,))\n",
        "G"
      ],
      "metadata": {
        "colab": {
          "base_uri": "https://localhost:8080/"
        },
        "id": "worCOxkehonm",
        "outputId": "c6ecd954-b37e-42c4-b012-d82fc57635cc"
      },
      "execution_count": null,
      "outputs": [
        {
          "output_type": "execute_result",
          "data": {
            "text/plain": [
              "<tf.Tensor: shape=(50,), dtype=float32, numpy=\n",
              "array([0.6645621 , 0.44100678, 0.3528825 , 0.46448255, 0.03366041,\n",
              "       0.68467236, 0.74011743, 0.8724445 , 0.22632635, 0.22319686,\n",
              "       0.3103881 , 0.7223358 , 0.13318717, 0.5480639 , 0.5746088 ,\n",
              "       0.8996835 , 0.00946367, 0.5212307 , 0.6345445 , 0.1993283 ,\n",
              "       0.72942245, 0.54583454, 0.10756552, 0.6767061 , 0.6602763 ,\n",
              "       0.33695042, 0.60141766, 0.21062577, 0.8527372 , 0.44062173,\n",
              "       0.9485276 , 0.23752594, 0.81179297, 0.5263394 , 0.494308  ,\n",
              "       0.21612847, 0.8457197 , 0.8718841 , 0.3083862 , 0.6868038 ,\n",
              "       0.23764038, 0.7817228 , 0.9671384 , 0.06870162, 0.79873943,\n",
              "       0.66028714, 0.5871513 , 0.16461694, 0.7381023 , 0.32054043],\n",
              "      dtype=float32)>"
            ]
          },
          "metadata": {},
          "execution_count": 54
        }
      ]
    },
    {
      "cell_type": "code",
      "source": [
        "#find the positional maximum, find the positional maximum value\n",
        "tf.argmax(G), G[tf.argmax(G)]"
      ],
      "metadata": {
        "colab": {
          "base_uri": "https://localhost:8080/"
        },
        "id": "Os_GpKBsh7Rp",
        "outputId": "ad3b917c-9ba4-481c-fc46-e80cb569f2bc"
      },
      "execution_count": null,
      "outputs": [
        {
          "output_type": "execute_result",
          "data": {
            "text/plain": [
              "(<tf.Tensor: shape=(), dtype=int64, numpy=42>,\n",
              " <tf.Tensor: shape=(), dtype=float32, numpy=0.9671384>)"
            ]
          },
          "metadata": {},
          "execution_count": 55
        }
      ]
    },
    {
      "cell_type": "code",
      "source": [
        "# find the max value of G\n",
        "tf.reduce_max(G)"
      ],
      "metadata": {
        "colab": {
          "base_uri": "https://localhost:8080/"
        },
        "id": "iVsBxwbSiwVW",
        "outputId": "f00cf060-184d-4afe-b940-a9dcfeaca31d"
      },
      "execution_count": null,
      "outputs": [
        {
          "output_type": "execute_result",
          "data": {
            "text/plain": [
              "<tf.Tensor: shape=(), dtype=float32, numpy=0.9671384>"
            ]
          },
          "metadata": {},
          "execution_count": 56
        }
      ]
    },
    {
      "cell_type": "code",
      "source": [
        "#check the equality\n",
        "G[tf.argmax(G)] == tf.reduce_max(G)"
      ],
      "metadata": {
        "colab": {
          "base_uri": "https://localhost:8080/"
        },
        "id": "JKsqCvIsjMwm",
        "outputId": "d76ca2dd-07d8-425b-fb8f-79d5436c7b73"
      },
      "execution_count": null,
      "outputs": [
        {
          "output_type": "execute_result",
          "data": {
            "text/plain": [
              "<tf.Tensor: shape=(), dtype=bool, numpy=True>"
            ]
          },
          "metadata": {},
          "execution_count": 57
        }
      ]
    },
    {
      "cell_type": "code",
      "source": [
        "tf.random.set_seed(42)\n",
        "G = tf.constant(tf.random.uniform(shape=(50,)), shape=(1,1,1,1,50))\n",
        "G"
      ],
      "metadata": {
        "colab": {
          "base_uri": "https://localhost:8080/"
        },
        "id": "1zuc4VW5ltvr",
        "outputId": "1d1ac439-bf29-45a6-c4c0-1f27339505cc"
      },
      "execution_count": null,
      "outputs": [
        {
          "output_type": "execute_result",
          "data": {
            "text/plain": [
              "<tf.Tensor: shape=(1, 1, 1, 1, 50), dtype=float32, numpy=\n",
              "array([[[[[0.6645621 , 0.44100678, 0.3528825 , 0.46448255, 0.03366041,\n",
              "           0.68467236, 0.74011743, 0.8724445 , 0.22632635, 0.22319686,\n",
              "           0.3103881 , 0.7223358 , 0.13318717, 0.5480639 , 0.5746088 ,\n",
              "           0.8996835 , 0.00946367, 0.5212307 , 0.6345445 , 0.1993283 ,\n",
              "           0.72942245, 0.54583454, 0.10756552, 0.6767061 , 0.6602763 ,\n",
              "           0.33695042, 0.60141766, 0.21062577, 0.8527372 , 0.44062173,\n",
              "           0.9485276 , 0.23752594, 0.81179297, 0.5263394 , 0.494308  ,\n",
              "           0.21612847, 0.8457197 , 0.8718841 , 0.3083862 , 0.6868038 ,\n",
              "           0.23764038, 0.7817228 , 0.9671384 , 0.06870162, 0.79873943,\n",
              "           0.66028714, 0.5871513 , 0.16461694, 0.7381023 , 0.32054043]]]]],\n",
              "      dtype=float32)>"
            ]
          },
          "metadata": {},
          "execution_count": 58
        }
      ]
    },
    {
      "cell_type": "code",
      "source": [
        "G.shape"
      ],
      "metadata": {
        "colab": {
          "base_uri": "https://localhost:8080/"
        },
        "id": "uyZ70F6gm94S",
        "outputId": "4bc92774-56a9-4401-8365-6bce570ac8d7"
      },
      "execution_count": null,
      "outputs": [
        {
          "output_type": "execute_result",
          "data": {
            "text/plain": [
              "TensorShape([1, 1, 1, 1, 50])"
            ]
          },
          "metadata": {},
          "execution_count": 59
        }
      ]
    },
    {
      "cell_type": "code",
      "source": [
        "G_squeezed = tf.squeeze(G)\n",
        "G_squeezed, G_squeezed.shape \n"
      ],
      "metadata": {
        "colab": {
          "base_uri": "https://localhost:8080/"
        },
        "id": "vU0m0FNDnAbx",
        "outputId": "74c5fab2-bdc0-4646-edb2-52629af6c436"
      },
      "execution_count": null,
      "outputs": [
        {
          "output_type": "execute_result",
          "data": {
            "text/plain": [
              "(<tf.Tensor: shape=(50,), dtype=float32, numpy=\n",
              " array([0.6645621 , 0.44100678, 0.3528825 , 0.46448255, 0.03366041,\n",
              "        0.68467236, 0.74011743, 0.8724445 , 0.22632635, 0.22319686,\n",
              "        0.3103881 , 0.7223358 , 0.13318717, 0.5480639 , 0.5746088 ,\n",
              "        0.8996835 , 0.00946367, 0.5212307 , 0.6345445 , 0.1993283 ,\n",
              "        0.72942245, 0.54583454, 0.10756552, 0.6767061 , 0.6602763 ,\n",
              "        0.33695042, 0.60141766, 0.21062577, 0.8527372 , 0.44062173,\n",
              "        0.9485276 , 0.23752594, 0.81179297, 0.5263394 , 0.494308  ,\n",
              "        0.21612847, 0.8457197 , 0.8718841 , 0.3083862 , 0.6868038 ,\n",
              "        0.23764038, 0.7817228 , 0.9671384 , 0.06870162, 0.79873943,\n",
              "        0.66028714, 0.5871513 , 0.16461694, 0.7381023 , 0.32054043],\n",
              "       dtype=float32)>,\n",
              " TensorShape([50]))"
            ]
          },
          "metadata": {},
          "execution_count": 60
        }
      ]
    },
    {
      "cell_type": "markdown",
      "source": [
        "# One Hot enconding\n",
        "📖 **Resource** - https://machinelearningmastery.com/why-one-hot-encode-data-in-machine-learning/"
      ],
      "metadata": {
        "id": "6gNrYj11t3Xt"
      }
    },
    {
      "cell_type": "code",
      "source": [
        "some_list = [0, 1, 2]\n",
        "tf.one_hot(some_list, depth=3)"
      ],
      "metadata": {
        "colab": {
          "base_uri": "https://localhost:8080/"
        },
        "id": "vEYVwo0-t2bc",
        "outputId": "bb896e02-393b-4915-d237-2fa34d110401"
      },
      "execution_count": null,
      "outputs": [
        {
          "output_type": "execute_result",
          "data": {
            "text/plain": [
              "<tf.Tensor: shape=(3, 3), dtype=float32, numpy=\n",
              "array([[1., 0., 0.],\n",
              "       [0., 1., 0.],\n",
              "       [0., 0., 1.]], dtype=float32)>"
            ]
          },
          "metadata": {},
          "execution_count": 61
        }
      ]
    },
    {
      "cell_type": "code",
      "source": [
        "\n",
        "tf.one_hot(some_list, depth=3, on_value='loaded', off_value='empty')"
      ],
      "metadata": {
        "colab": {
          "base_uri": "https://localhost:8080/"
        },
        "id": "K3Ea5keMum2k",
        "outputId": "765f32b2-7c72-430e-f030-661fa46769e6"
      },
      "execution_count": null,
      "outputs": [
        {
          "output_type": "execute_result",
          "data": {
            "text/plain": [
              "<tf.Tensor: shape=(3, 3), dtype=string, numpy=\n",
              "array([[b'loaded', b'empty', b'empty'],\n",
              "       [b'empty', b'loaded', b'empty'],\n",
              "       [b'empty', b'empty', b'loaded']], dtype=object)>"
            ]
          },
          "metadata": {},
          "execution_count": 62
        }
      ]
    },
    {
      "cell_type": "markdown",
      "source": [
        "# Squaring, log, square root"
      ],
      "metadata": {
        "id": "TNOPfgOdvJhU"
      }
    },
    {
      "cell_type": "code",
      "source": [
        "H = tf.range(0, 10, 2)\n",
        "H"
      ],
      "metadata": {
        "colab": {
          "base_uri": "https://localhost:8080/"
        },
        "id": "0mHOSJvovOLj",
        "outputId": "8b6a7ac3-5847-49ea-9f51-fa66f862c51c"
      },
      "execution_count": null,
      "outputs": [
        {
          "output_type": "execute_result",
          "data": {
            "text/plain": [
              "<tf.Tensor: shape=(5,), dtype=int32, numpy=array([0, 2, 4, 6, 8], dtype=int32)>"
            ]
          },
          "metadata": {},
          "execution_count": 63
        }
      ]
    },
    {
      "cell_type": "code",
      "source": [
        "tf.square(H)"
      ],
      "metadata": {
        "colab": {
          "base_uri": "https://localhost:8080/"
        },
        "id": "P7swLrvYviWE",
        "outputId": "0f94ff1a-82f1-4dd5-f2d4-566489cd36d6"
      },
      "execution_count": null,
      "outputs": [
        {
          "output_type": "execute_result",
          "data": {
            "text/plain": [
              "<tf.Tensor: shape=(5,), dtype=int32, numpy=array([ 0,  4, 16, 36, 64], dtype=int32)>"
            ]
          },
          "metadata": {},
          "execution_count": 64
        }
      ]
    },
    {
      "cell_type": "code",
      "source": [
        "tf .sqrt(tf.cast(H, dtype=tf.float32))"
      ],
      "metadata": {
        "colab": {
          "base_uri": "https://localhost:8080/"
        },
        "id": "CGZ7wimevloL",
        "outputId": "8a699ad1-1f44-4ce7-8bc1-fc063ec88b99"
      },
      "execution_count": null,
      "outputs": [
        {
          "output_type": "execute_result",
          "data": {
            "text/plain": [
              "<tf.Tensor: shape=(5,), dtype=float32, numpy=\n",
              "array([0.       , 1.4142135, 2.       , 2.4494896, 2.828427 ],\n",
              "      dtype=float32)>"
            ]
          },
          "metadata": {},
          "execution_count": 65
        }
      ]
    },
    {
      "cell_type": "code",
      "source": [
        "tf.math.log(tf.cast(H,dtype=tf.float32))"
      ],
      "metadata": {
        "colab": {
          "base_uri": "https://localhost:8080/"
        },
        "id": "4006C8_PwCpc",
        "outputId": "a3e3c216-abca-46d2-ca30-49d012e259ce"
      },
      "execution_count": null,
      "outputs": [
        {
          "output_type": "execute_result",
          "data": {
            "text/plain": [
              "<tf.Tensor: shape=(5,), dtype=float32, numpy=\n",
              "array([     -inf, 0.6931472, 1.3862944, 1.7917595, 2.0794415],\n",
              "      dtype=float32)>"
            ]
          },
          "metadata": {},
          "execution_count": 66
        }
      ]
    },
    {
      "cell_type": "markdown",
      "source": [
        "# Numpy vs Tensors\n",
        "\n",
        "🔑 **Note** - Tensorflow tensors can run on a GPU or TPU ( tensor processor unit )  then Numpy arrays (for faster numerical processing)"
      ],
      "metadata": {
        "id": "yllP_8lRz_IT"
      }
    },
    {
      "cell_type": "code",
      "source": [
        "# the default types are slightly different\n",
        "numpy_J = tf.constant(np.array([1.,2.,3.]))\n",
        "tensor_J = tf.constant([1.,2.,3.])\n",
        "tensor_J.dtype, numpy_J.dtype"
      ],
      "metadata": {
        "colab": {
          "base_uri": "https://localhost:8080/"
        },
        "id": "HMpx05luvJL2",
        "outputId": "81eebed2-7177-45c2-c697-2c1c235ceb10"
      },
      "execution_count": null,
      "outputs": [
        {
          "output_type": "execute_result",
          "data": {
            "text/plain": [
              "(tf.float32, tf.float64)"
            ]
          },
          "metadata": {},
          "execution_count": 67
        }
      ]
    },
    {
      "cell_type": "code",
      "source": [
        "# the default types are slightly different\n",
        "numpy_J = tf.constant(np.array([1,2,3]))\n",
        "tensor_J = tf.constant([1,2,3])\n",
        "tensor_J.dtype, numpy_J.dtype"
      ],
      "metadata": {
        "colab": {
          "base_uri": "https://localhost:8080/"
        },
        "id": "O1NxNBzV0lD1",
        "outputId": "28401942-3022-4d99-de3e-fce74ff42d5d"
      },
      "execution_count": null,
      "outputs": [
        {
          "output_type": "execute_result",
          "data": {
            "text/plain": [
              "(tf.int32, tf.int64)"
            ]
          },
          "metadata": {},
          "execution_count": 68
        }
      ]
    },
    {
      "cell_type": "markdown",
      "source": [
        "# Finding access to GPUs"
      ],
      "metadata": {
        "id": "Z_HhNqH43YEF"
      }
    },
    {
      "cell_type": "code",
      "source": [
        "tf.config.list_physical_devices()"
      ],
      "metadata": {
        "colab": {
          "base_uri": "https://localhost:8080/"
        },
        "id": "bPS1VZBD0cDY",
        "outputId": "10348ad3-b2fe-410a-96b4-ecddb58fb088"
      },
      "execution_count": null,
      "outputs": [
        {
          "output_type": "execute_result",
          "data": {
            "text/plain": [
              "[PhysicalDevice(name='/physical_device:CPU:0', device_type='CPU'),\n",
              " PhysicalDevice(name='/physical_device:GPU:0', device_type='GPU')]"
            ]
          },
          "metadata": {},
          "execution_count": 69
        }
      ]
    },
    {
      "cell_type": "code",
      "source": [
        "tf.config.list_physical_devices(\"GPU\")"
      ],
      "metadata": {
        "colab": {
          "base_uri": "https://localhost:8080/"
        },
        "id": "ObCm8_Rt3nO4",
        "outputId": "8db95d99-a0d2-4d32-a4da-62dad82c4f03"
      },
      "execution_count": null,
      "outputs": [
        {
          "output_type": "execute_result",
          "data": {
            "text/plain": [
              "[]"
            ]
          },
          "metadata": {},
          "execution_count": 122
        }
      ]
    },
    {
      "cell_type": "code",
      "source": [
        "!nvidia-smi"
      ],
      "metadata": {
        "colab": {
          "base_uri": "https://localhost:8080/"
        },
        "id": "i5qF8zuz4bd3",
        "outputId": "9f097117-cee9-413c-f049-4a8fee0a2a0c"
      },
      "execution_count": null,
      "outputs": [
        {
          "output_type": "stream",
          "name": "stdout",
          "text": [
            "Mon May  8 15:01:37 2023       \n",
            "+-----------------------------------------------------------------------------+\n",
            "| NVIDIA-SMI 525.85.12    Driver Version: 525.85.12    CUDA Version: 12.0     |\n",
            "|-------------------------------+----------------------+----------------------+\n",
            "| GPU  Name        Persistence-M| Bus-Id        Disp.A | Volatile Uncorr. ECC |\n",
            "| Fan  Temp  Perf  Pwr:Usage/Cap|         Memory-Usage | GPU-Util  Compute M. |\n",
            "|                               |                      |               MIG M. |\n",
            "|===============================+======================+======================|\n",
            "|   0  Tesla T4            Off  | 00000000:00:04.0 Off |                    0 |\n",
            "| N/A   39C    P0    26W /  70W |    375MiB / 15360MiB |      0%      Default |\n",
            "|                               |                      |                  N/A |\n",
            "+-------------------------------+----------------------+----------------------+\n",
            "                                                                               \n",
            "+-----------------------------------------------------------------------------+\n",
            "| Processes:                                                                  |\n",
            "|  GPU   GI   CI        PID   Type   Process name                  GPU Memory |\n",
            "|        ID   ID                                                   Usage      |\n",
            "|=============================================================================|\n",
            "+-----------------------------------------------------------------------------+\n"
          ]
        }
      ]
    },
    {
      "cell_type": "markdown",
      "source": [
        "🔑 **Note** - If you have access to CUDA-enabled GPU, TensorFlow will automatically use it when its possible"
      ],
      "metadata": {
        "id": "X-Q0pzdX4sC3"
      }
    },
    {
      "cell_type": "code",
      "source": [],
      "metadata": {
        "id": "TyvUOSkk4rjV"
      },
      "execution_count": null,
      "outputs": []
    }
  ]
}