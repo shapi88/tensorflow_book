{
  "nbformat": 4,
  "nbformat_minor": 0,
  "metadata": {
    "colab": {
      "provenance": [],
      "gpuType": "V100",
      "authorship_tag": "ABX9TyMbOyZKkoDSDUVAidkyvUUu",
      "include_colab_link": true
    },
    "kernelspec": {
      "name": "python3",
      "display_name": "Python 3"
    },
    "language_info": {
      "name": "python"
    }
  },
  "cells": [
    {
      "cell_type": "markdown",
      "metadata": {
        "id": "view-in-github",
        "colab_type": "text"
      },
      "source": [
        "<a href=\"https://colab.research.google.com/github/shapi88/tensorflow_book/blob/main/06_transfer_learning_in_tensorflow_part_3_scaling_up.ipynb\" target=\"_parent\"><img src=\"https://colab.research.google.com/assets/colab-badge.svg\" alt=\"Open In Colab\"/></a>"
      ]
    },
    {
      "cell_type": "markdown",
      "source": [
        "# Transfer Learning with TensorFlow Part 3: Scaling up (🍔👁 Food Vision mini)\n",
        "\n",
        "\n",
        "We've seen the power of transfer learning feature extraction and fine-tuning, now it's time to scale up to all of the classes in Food101 (101 total classes of food).\n",
        "\n",
        "\n",
        "Our goal is to beat the original Food101 paper with 10% of the training (leveraging the power of deep learning).\n",
        "\n",
        "\n",
        "Original Food101 paper: https://data.vision.ee.ethz.ch/cvl/datasets_extra/food-101/static/bossard_eccv14_food-101.pdf\n",
        "\n",
        "\n",
        "Our baseline to beat is 50.76% accuracy across 101 classes.\n",
        "\n",
        "\n",
        "-------------------------------------------------------------------\n",
        "See full course materials on GitHub: https://github.com/mrdbourke/tensorflow-deep-learning"
      ],
      "metadata": {
        "id": "Mw23mCdCSmSA"
      }
    },
    {
      "cell_type": "code",
      "execution_count": null,
      "metadata": {
        "id": "5KlpfBqVSag7",
        "colab": {
          "base_uri": "https://localhost:8080/"
        },
        "outputId": "1040f209-bb60-41bc-ea15-ffb01c90a1ef"
      },
      "outputs": [
        {
          "output_type": "stream",
          "name": "stdout",
          "text": [
            "Fri Jun 30 08:47:37 2023       \n",
            "+-----------------------------------------------------------------------------+\n",
            "| NVIDIA-SMI 525.85.12    Driver Version: 525.85.12    CUDA Version: 12.0     |\n",
            "|-------------------------------+----------------------+----------------------+\n",
            "| GPU  Name        Persistence-M| Bus-Id        Disp.A | Volatile Uncorr. ECC |\n",
            "| Fan  Temp  Perf  Pwr:Usage/Cap|         Memory-Usage | GPU-Util  Compute M. |\n",
            "|                               |                      |               MIG M. |\n",
            "|===============================+======================+======================|\n",
            "|   0  Tesla V100-SXM2...  Off  | 00000000:00:04.0 Off |                    0 |\n",
            "| N/A   33C    P0    24W / 300W |      0MiB / 16384MiB |      0%      Default |\n",
            "|                               |                      |                  N/A |\n",
            "+-------------------------------+----------------------+----------------------+\n",
            "                                                                               \n",
            "+-----------------------------------------------------------------------------+\n",
            "| Processes:                                                                  |\n",
            "|  GPU   GI   CI        PID   Type   Process name                  GPU Memory |\n",
            "|        ID   ID                                                   Usage      |\n",
            "|=============================================================================|\n",
            "|  No running processes found                                                 |\n",
            "+-----------------------------------------------------------------------------+\n"
          ]
        }
      ],
      "source": [
        "# Check to see if we're using a GPU\n",
        "!nvidia-smi"
      ]
    },
    {
      "cell_type": "markdown",
      "source": [
        "## Creating helper functions\n",
        "\n",
        "In previous notebooks, we've created a series of helper functions to do different tasks, let's download them."
      ],
      "metadata": {
        "id": "u2AyObhDS2Vz"
      }
    },
    {
      "cell_type": "code",
      "source": [
        "!wget https://raw.githubusercontent.com/shapi88/tensorflow_book/main/helpers/helpers.py"
      ],
      "metadata": {
        "id": "qjlDC1nYS0Rf",
        "colab": {
          "base_uri": "https://localhost:8080/"
        },
        "outputId": "5e88b682-2ce7-434e-b3e7-d896e35c2b99"
      },
      "execution_count": null,
      "outputs": [
        {
          "output_type": "stream",
          "name": "stdout",
          "text": [
            "--2023-06-30 08:47:37--  https://raw.githubusercontent.com/shapi88/tensorflow_book/main/helpers/helpers.py\n",
            "Resolving raw.githubusercontent.com (raw.githubusercontent.com)... 185.199.108.133, 185.199.109.133, 185.199.110.133, ...\n",
            "Connecting to raw.githubusercontent.com (raw.githubusercontent.com)|185.199.108.133|:443... connected.\n",
            "HTTP request sent, awaiting response... 200 OK\n",
            "Length: 10245 (10K) [text/plain]\n",
            "Saving to: ‘helpers.py’\n",
            "\n",
            "helpers.py          100%[===================>]  10.00K  --.-KB/s    in 0s      \n",
            "\n",
            "2023-06-30 08:47:37 (101 MB/s) - ‘helpers.py’ saved [10245/10245]\n",
            "\n"
          ]
        }
      ]
    },
    {
      "cell_type": "code",
      "source": [
        "# Import helper functions we're going to use in this notebook\n",
        "from helpers import create_tensorboard_callback, plot_loss_curves, unzip_data, compare_historys, walk_through_dir\n",
        "import tensorflow as tf"
      ],
      "metadata": {
        "id": "-i5Ww-aOTCSi"
      },
      "execution_count": null,
      "outputs": []
    },
    {
      "cell_type": "markdown",
      "source": [
        "### 101 Food Classes: working with less data\n",
        "\n",
        "Our goal is to beat the original Food101 paper with 10% of the training data, so let's download it.\n",
        "\n",
        "The data we're downloading comes from the original Food101 dataset but has been preprocessed using the image_data_modification notebook - https://github.com/mrdbourke/tensorflow-deep-learning/blob/main/extras/image_data_modification.ipynb"
      ],
      "metadata": {
        "id": "kdE3DotRTFki"
      }
    },
    {
      "cell_type": "code",
      "source": [
        "!wget https://storage.googleapis.com/ztm_tf_course/food_vision/101_food_classes_10_percent.zip\n",
        "unzip_data(\"101_food_classes_10_percent.zip\")\n",
        "\n",
        "train_dir = \"101_food_classes_10_percent/train/\"\n",
        "test_dir = \"101_food_classes_10_percent/test/\""
      ],
      "metadata": {
        "id": "Y9updQMpTFDw",
        "colab": {
          "base_uri": "https://localhost:8080/"
        },
        "outputId": "d961fbbf-ee8d-4d09-f05f-47de879c2d58"
      },
      "execution_count": null,
      "outputs": [
        {
          "output_type": "stream",
          "name": "stdout",
          "text": [
            "--2023-06-30 08:47:42--  https://storage.googleapis.com/ztm_tf_course/food_vision/101_food_classes_10_percent.zip\n",
            "Resolving storage.googleapis.com (storage.googleapis.com)... 142.251.170.128, 173.194.174.128, 74.125.23.128, ...\n",
            "Connecting to storage.googleapis.com (storage.googleapis.com)|142.251.170.128|:443... connected.\n",
            "HTTP request sent, awaiting response... 200 OK\n",
            "Length: 1625420029 (1.5G) [application/zip]\n",
            "Saving to: ‘101_food_classes_10_percent.zip’\n",
            "\n",
            "101_food_classes_10 100%[===================>]   1.51G  30.6MB/s    in 52s     \n",
            "\n",
            "2023-06-30 08:48:34 (29.9 MB/s) - ‘101_food_classes_10_percent.zip’ saved [1625420029/1625420029]\n",
            "\n"
          ]
        }
      ]
    },
    {
      "cell_type": "code",
      "source": [
        "# How many images/classes are there?\n",
        "walk_through_dir(\"101_food_classes_10_percent\")"
      ],
      "metadata": {
        "id": "Oh6mPMb5TKsu",
        "colab": {
          "base_uri": "https://localhost:8080/"
        },
        "outputId": "f855959a-4843-41e6-d8d9-f13c18ce00cc"
      },
      "execution_count": null,
      "outputs": [
        {
          "output_type": "stream",
          "name": "stdout",
          "text": [
            "There are 2 directories and 0 images in '101_food_classes_10_percent'.\n",
            "There are 101 directories and 0 images in '101_food_classes_10_percent/test'.\n",
            "There are 0 directories and 250 images in '101_food_classes_10_percent/test/tacos'.\n",
            "There are 0 directories and 250 images in '101_food_classes_10_percent/test/macarons'.\n",
            "There are 0 directories and 250 images in '101_food_classes_10_percent/test/eggs_benedict'.\n",
            "There are 0 directories and 250 images in '101_food_classes_10_percent/test/cheese_plate'.\n",
            "There are 0 directories and 250 images in '101_food_classes_10_percent/test/onion_rings'.\n",
            "There are 0 directories and 250 images in '101_food_classes_10_percent/test/french_onion_soup'.\n",
            "There are 0 directories and 250 images in '101_food_classes_10_percent/test/breakfast_burrito'.\n",
            "There are 0 directories and 250 images in '101_food_classes_10_percent/test/chocolate_mousse'.\n",
            "There are 0 directories and 250 images in '101_food_classes_10_percent/test/beet_salad'.\n",
            "There are 0 directories and 250 images in '101_food_classes_10_percent/test/fried_calamari'.\n",
            "There are 0 directories and 250 images in '101_food_classes_10_percent/test/cup_cakes'.\n",
            "There are 0 directories and 250 images in '101_food_classes_10_percent/test/cannoli'.\n",
            "There are 0 directories and 250 images in '101_food_classes_10_percent/test/baklava'.\n",
            "There are 0 directories and 250 images in '101_food_classes_10_percent/test/ravioli'.\n",
            "There are 0 directories and 250 images in '101_food_classes_10_percent/test/falafel'.\n",
            "There are 0 directories and 250 images in '101_food_classes_10_percent/test/paella'.\n",
            "There are 0 directories and 250 images in '101_food_classes_10_percent/test/sashimi'.\n",
            "There are 0 directories and 250 images in '101_food_classes_10_percent/test/seaweed_salad'.\n",
            "There are 0 directories and 250 images in '101_food_classes_10_percent/test/hummus'.\n",
            "There are 0 directories and 250 images in '101_food_classes_10_percent/test/pizza'.\n",
            "There are 0 directories and 250 images in '101_food_classes_10_percent/test/omelette'.\n",
            "There are 0 directories and 250 images in '101_food_classes_10_percent/test/chicken_quesadilla'.\n",
            "There are 0 directories and 250 images in '101_food_classes_10_percent/test/croque_madame'.\n",
            "There are 0 directories and 250 images in '101_food_classes_10_percent/test/carrot_cake'.\n",
            "There are 0 directories and 250 images in '101_food_classes_10_percent/test/hamburger'.\n",
            "There are 0 directories and 250 images in '101_food_classes_10_percent/test/waffles'.\n",
            "There are 0 directories and 250 images in '101_food_classes_10_percent/test/gyoza'.\n",
            "There are 0 directories and 250 images in '101_food_classes_10_percent/test/nachos'.\n",
            "There are 0 directories and 250 images in '101_food_classes_10_percent/test/spaghetti_bolognese'.\n",
            "There are 0 directories and 250 images in '101_food_classes_10_percent/test/churros'.\n",
            "There are 0 directories and 250 images in '101_food_classes_10_percent/test/tuna_tartare'.\n",
            "There are 0 directories and 250 images in '101_food_classes_10_percent/test/takoyaki'.\n",
            "There are 0 directories and 250 images in '101_food_classes_10_percent/test/scallops'.\n",
            "There are 0 directories and 250 images in '101_food_classes_10_percent/test/french_toast'.\n",
            "There are 0 directories and 250 images in '101_food_classes_10_percent/test/tiramisu'.\n",
            "There are 0 directories and 250 images in '101_food_classes_10_percent/test/peking_duck'.\n",
            "There are 0 directories and 250 images in '101_food_classes_10_percent/test/club_sandwich'.\n",
            "There are 0 directories and 250 images in '101_food_classes_10_percent/test/lobster_bisque'.\n",
            "There are 0 directories and 250 images in '101_food_classes_10_percent/test/beef_carpaccio'.\n",
            "There are 0 directories and 250 images in '101_food_classes_10_percent/test/grilled_cheese_sandwich'.\n",
            "There are 0 directories and 250 images in '101_food_classes_10_percent/test/guacamole'.\n",
            "There are 0 directories and 250 images in '101_food_classes_10_percent/test/shrimp_and_grits'.\n",
            "There are 0 directories and 250 images in '101_food_classes_10_percent/test/pulled_pork_sandwich'.\n",
            "There are 0 directories and 250 images in '101_food_classes_10_percent/test/pad_thai'.\n",
            "There are 0 directories and 250 images in '101_food_classes_10_percent/test/hot_and_sour_soup'.\n",
            "There are 0 directories and 250 images in '101_food_classes_10_percent/test/creme_brulee'.\n",
            "There are 0 directories and 250 images in '101_food_classes_10_percent/test/spaghetti_carbonara'.\n",
            "There are 0 directories and 250 images in '101_food_classes_10_percent/test/grilled_salmon'.\n",
            "There are 0 directories and 250 images in '101_food_classes_10_percent/test/edamame'.\n",
            "There are 0 directories and 250 images in '101_food_classes_10_percent/test/greek_salad'.\n",
            "There are 0 directories and 250 images in '101_food_classes_10_percent/test/dumplings'.\n",
            "There are 0 directories and 250 images in '101_food_classes_10_percent/test/pancakes'.\n",
            "There are 0 directories and 250 images in '101_food_classes_10_percent/test/fish_and_chips'.\n",
            "There are 0 directories and 250 images in '101_food_classes_10_percent/test/caesar_salad'.\n",
            "There are 0 directories and 250 images in '101_food_classes_10_percent/test/chicken_curry'.\n",
            "There are 0 directories and 250 images in '101_food_classes_10_percent/test/samosa'.\n",
            "There are 0 directories and 250 images in '101_food_classes_10_percent/test/strawberry_shortcake'.\n",
            "There are 0 directories and 250 images in '101_food_classes_10_percent/test/escargots'.\n",
            "There are 0 directories and 250 images in '101_food_classes_10_percent/test/sushi'.\n",
            "There are 0 directories and 250 images in '101_food_classes_10_percent/test/bread_pudding'.\n",
            "There are 0 directories and 250 images in '101_food_classes_10_percent/test/pork_chop'.\n",
            "There are 0 directories and 250 images in '101_food_classes_10_percent/test/oysters'.\n",
            "There are 0 directories and 250 images in '101_food_classes_10_percent/test/foie_gras'.\n",
            "There are 0 directories and 250 images in '101_food_classes_10_percent/test/risotto'.\n",
            "There are 0 directories and 250 images in '101_food_classes_10_percent/test/crab_cakes'.\n",
            "There are 0 directories and 250 images in '101_food_classes_10_percent/test/spring_rolls'.\n",
            "There are 0 directories and 250 images in '101_food_classes_10_percent/test/poutine'.\n",
            "There are 0 directories and 250 images in '101_food_classes_10_percent/test/fried_rice'.\n",
            "There are 0 directories and 250 images in '101_food_classes_10_percent/test/bibimbap'.\n",
            "There are 0 directories and 250 images in '101_food_classes_10_percent/test/bruschetta'.\n",
            "There are 0 directories and 250 images in '101_food_classes_10_percent/test/ramen'.\n",
            "There are 0 directories and 250 images in '101_food_classes_10_percent/test/frozen_yogurt'.\n",
            "There are 0 directories and 250 images in '101_food_classes_10_percent/test/red_velvet_cake'.\n",
            "There are 0 directories and 250 images in '101_food_classes_10_percent/test/apple_pie'.\n",
            "There are 0 directories and 250 images in '101_food_classes_10_percent/test/ceviche'.\n",
            "There are 0 directories and 250 images in '101_food_classes_10_percent/test/chicken_wings'.\n",
            "There are 0 directories and 250 images in '101_food_classes_10_percent/test/cheesecake'.\n",
            "There are 0 directories and 250 images in '101_food_classes_10_percent/test/prime_rib'.\n",
            "There are 0 directories and 250 images in '101_food_classes_10_percent/test/mussels'.\n",
            "There are 0 directories and 250 images in '101_food_classes_10_percent/test/filet_mignon'.\n",
            "There are 0 directories and 250 images in '101_food_classes_10_percent/test/lobster_roll_sandwich'.\n",
            "There are 0 directories and 250 images in '101_food_classes_10_percent/test/gnocchi'.\n",
            "There are 0 directories and 250 images in '101_food_classes_10_percent/test/baby_back_ribs'.\n",
            "There are 0 directories and 250 images in '101_food_classes_10_percent/test/chocolate_cake'.\n",
            "There are 0 directories and 250 images in '101_food_classes_10_percent/test/miso_soup'.\n",
            "There are 0 directories and 250 images in '101_food_classes_10_percent/test/caprese_salad'.\n",
            "There are 0 directories and 250 images in '101_food_classes_10_percent/test/beignets'.\n",
            "There are 0 directories and 250 images in '101_food_classes_10_percent/test/steak'.\n",
            "There are 0 directories and 250 images in '101_food_classes_10_percent/test/deviled_eggs'.\n",
            "There are 0 directories and 250 images in '101_food_classes_10_percent/test/garlic_bread'.\n",
            "There are 0 directories and 250 images in '101_food_classes_10_percent/test/pho'.\n",
            "There are 0 directories and 250 images in '101_food_classes_10_percent/test/donuts'.\n",
            "There are 0 directories and 250 images in '101_food_classes_10_percent/test/hot_dog'.\n",
            "There are 0 directories and 250 images in '101_food_classes_10_percent/test/french_fries'.\n",
            "There are 0 directories and 250 images in '101_food_classes_10_percent/test/beef_tartare'.\n",
            "There are 0 directories and 250 images in '101_food_classes_10_percent/test/huevos_rancheros'.\n",
            "There are 0 directories and 250 images in '101_food_classes_10_percent/test/clam_chowder'.\n",
            "There are 0 directories and 250 images in '101_food_classes_10_percent/test/macaroni_and_cheese'.\n",
            "There are 0 directories and 250 images in '101_food_classes_10_percent/test/panna_cotta'.\n",
            "There are 0 directories and 250 images in '101_food_classes_10_percent/test/lasagna'.\n",
            "There are 0 directories and 250 images in '101_food_classes_10_percent/test/ice_cream'.\n",
            "There are 101 directories and 0 images in '101_food_classes_10_percent/train'.\n",
            "There are 0 directories and 75 images in '101_food_classes_10_percent/train/tacos'.\n",
            "There are 0 directories and 75 images in '101_food_classes_10_percent/train/macarons'.\n",
            "There are 0 directories and 75 images in '101_food_classes_10_percent/train/eggs_benedict'.\n",
            "There are 0 directories and 75 images in '101_food_classes_10_percent/train/cheese_plate'.\n",
            "There are 0 directories and 75 images in '101_food_classes_10_percent/train/onion_rings'.\n",
            "There are 0 directories and 75 images in '101_food_classes_10_percent/train/french_onion_soup'.\n",
            "There are 0 directories and 75 images in '101_food_classes_10_percent/train/breakfast_burrito'.\n",
            "There are 0 directories and 75 images in '101_food_classes_10_percent/train/chocolate_mousse'.\n",
            "There are 0 directories and 75 images in '101_food_classes_10_percent/train/beet_salad'.\n",
            "There are 0 directories and 75 images in '101_food_classes_10_percent/train/fried_calamari'.\n",
            "There are 0 directories and 75 images in '101_food_classes_10_percent/train/cup_cakes'.\n",
            "There are 0 directories and 75 images in '101_food_classes_10_percent/train/cannoli'.\n",
            "There are 0 directories and 75 images in '101_food_classes_10_percent/train/baklava'.\n",
            "There are 0 directories and 75 images in '101_food_classes_10_percent/train/ravioli'.\n",
            "There are 0 directories and 75 images in '101_food_classes_10_percent/train/falafel'.\n",
            "There are 0 directories and 75 images in '101_food_classes_10_percent/train/paella'.\n",
            "There are 0 directories and 75 images in '101_food_classes_10_percent/train/sashimi'.\n",
            "There are 0 directories and 75 images in '101_food_classes_10_percent/train/seaweed_salad'.\n",
            "There are 0 directories and 75 images in '101_food_classes_10_percent/train/hummus'.\n",
            "There are 0 directories and 75 images in '101_food_classes_10_percent/train/pizza'.\n",
            "There are 0 directories and 75 images in '101_food_classes_10_percent/train/omelette'.\n",
            "There are 0 directories and 75 images in '101_food_classes_10_percent/train/chicken_quesadilla'.\n",
            "There are 0 directories and 75 images in '101_food_classes_10_percent/train/croque_madame'.\n",
            "There are 0 directories and 75 images in '101_food_classes_10_percent/train/carrot_cake'.\n",
            "There are 0 directories and 75 images in '101_food_classes_10_percent/train/hamburger'.\n",
            "There are 0 directories and 75 images in '101_food_classes_10_percent/train/waffles'.\n",
            "There are 0 directories and 75 images in '101_food_classes_10_percent/train/gyoza'.\n",
            "There are 0 directories and 75 images in '101_food_classes_10_percent/train/nachos'.\n",
            "There are 0 directories and 75 images in '101_food_classes_10_percent/train/spaghetti_bolognese'.\n",
            "There are 0 directories and 75 images in '101_food_classes_10_percent/train/churros'.\n",
            "There are 0 directories and 75 images in '101_food_classes_10_percent/train/tuna_tartare'.\n",
            "There are 0 directories and 75 images in '101_food_classes_10_percent/train/takoyaki'.\n",
            "There are 0 directories and 75 images in '101_food_classes_10_percent/train/scallops'.\n",
            "There are 0 directories and 75 images in '101_food_classes_10_percent/train/french_toast'.\n",
            "There are 0 directories and 75 images in '101_food_classes_10_percent/train/tiramisu'.\n",
            "There are 0 directories and 75 images in '101_food_classes_10_percent/train/peking_duck'.\n",
            "There are 0 directories and 75 images in '101_food_classes_10_percent/train/club_sandwich'.\n",
            "There are 0 directories and 75 images in '101_food_classes_10_percent/train/lobster_bisque'.\n",
            "There are 0 directories and 75 images in '101_food_classes_10_percent/train/beef_carpaccio'.\n",
            "There are 0 directories and 75 images in '101_food_classes_10_percent/train/grilled_cheese_sandwich'.\n",
            "There are 0 directories and 75 images in '101_food_classes_10_percent/train/guacamole'.\n",
            "There are 0 directories and 75 images in '101_food_classes_10_percent/train/shrimp_and_grits'.\n",
            "There are 0 directories and 75 images in '101_food_classes_10_percent/train/pulled_pork_sandwich'.\n",
            "There are 0 directories and 75 images in '101_food_classes_10_percent/train/pad_thai'.\n",
            "There are 0 directories and 75 images in '101_food_classes_10_percent/train/hot_and_sour_soup'.\n",
            "There are 0 directories and 75 images in '101_food_classes_10_percent/train/creme_brulee'.\n",
            "There are 0 directories and 75 images in '101_food_classes_10_percent/train/spaghetti_carbonara'.\n",
            "There are 0 directories and 75 images in '101_food_classes_10_percent/train/grilled_salmon'.\n",
            "There are 0 directories and 75 images in '101_food_classes_10_percent/train/edamame'.\n",
            "There are 0 directories and 75 images in '101_food_classes_10_percent/train/greek_salad'.\n",
            "There are 0 directories and 75 images in '101_food_classes_10_percent/train/dumplings'.\n",
            "There are 0 directories and 75 images in '101_food_classes_10_percent/train/pancakes'.\n",
            "There are 0 directories and 75 images in '101_food_classes_10_percent/train/fish_and_chips'.\n",
            "There are 0 directories and 75 images in '101_food_classes_10_percent/train/caesar_salad'.\n",
            "There are 0 directories and 75 images in '101_food_classes_10_percent/train/chicken_curry'.\n",
            "There are 0 directories and 75 images in '101_food_classes_10_percent/train/samosa'.\n",
            "There are 0 directories and 75 images in '101_food_classes_10_percent/train/strawberry_shortcake'.\n",
            "There are 0 directories and 75 images in '101_food_classes_10_percent/train/escargots'.\n",
            "There are 0 directories and 75 images in '101_food_classes_10_percent/train/sushi'.\n",
            "There are 0 directories and 75 images in '101_food_classes_10_percent/train/bread_pudding'.\n",
            "There are 0 directories and 75 images in '101_food_classes_10_percent/train/pork_chop'.\n",
            "There are 0 directories and 75 images in '101_food_classes_10_percent/train/oysters'.\n",
            "There are 0 directories and 75 images in '101_food_classes_10_percent/train/foie_gras'.\n",
            "There are 0 directories and 75 images in '101_food_classes_10_percent/train/risotto'.\n",
            "There are 0 directories and 75 images in '101_food_classes_10_percent/train/crab_cakes'.\n",
            "There are 0 directories and 75 images in '101_food_classes_10_percent/train/spring_rolls'.\n",
            "There are 0 directories and 75 images in '101_food_classes_10_percent/train/poutine'.\n",
            "There are 0 directories and 75 images in '101_food_classes_10_percent/train/fried_rice'.\n",
            "There are 0 directories and 75 images in '101_food_classes_10_percent/train/bibimbap'.\n",
            "There are 0 directories and 75 images in '101_food_classes_10_percent/train/bruschetta'.\n",
            "There are 0 directories and 75 images in '101_food_classes_10_percent/train/ramen'.\n",
            "There are 0 directories and 75 images in '101_food_classes_10_percent/train/frozen_yogurt'.\n",
            "There are 0 directories and 75 images in '101_food_classes_10_percent/train/red_velvet_cake'.\n",
            "There are 0 directories and 75 images in '101_food_classes_10_percent/train/apple_pie'.\n",
            "There are 0 directories and 75 images in '101_food_classes_10_percent/train/ceviche'.\n",
            "There are 0 directories and 75 images in '101_food_classes_10_percent/train/chicken_wings'.\n",
            "There are 0 directories and 75 images in '101_food_classes_10_percent/train/cheesecake'.\n",
            "There are 0 directories and 75 images in '101_food_classes_10_percent/train/prime_rib'.\n",
            "There are 0 directories and 75 images in '101_food_classes_10_percent/train/mussels'.\n",
            "There are 0 directories and 75 images in '101_food_classes_10_percent/train/filet_mignon'.\n",
            "There are 0 directories and 75 images in '101_food_classes_10_percent/train/lobster_roll_sandwich'.\n",
            "There are 0 directories and 75 images in '101_food_classes_10_percent/train/gnocchi'.\n",
            "There are 0 directories and 75 images in '101_food_classes_10_percent/train/baby_back_ribs'.\n",
            "There are 0 directories and 75 images in '101_food_classes_10_percent/train/chocolate_cake'.\n",
            "There are 0 directories and 75 images in '101_food_classes_10_percent/train/miso_soup'.\n",
            "There are 0 directories and 75 images in '101_food_classes_10_percent/train/caprese_salad'.\n",
            "There are 0 directories and 75 images in '101_food_classes_10_percent/train/beignets'.\n",
            "There are 0 directories and 75 images in '101_food_classes_10_percent/train/steak'.\n",
            "There are 0 directories and 75 images in '101_food_classes_10_percent/train/deviled_eggs'.\n",
            "There are 0 directories and 75 images in '101_food_classes_10_percent/train/garlic_bread'.\n",
            "There are 0 directories and 75 images in '101_food_classes_10_percent/train/pho'.\n",
            "There are 0 directories and 75 images in '101_food_classes_10_percent/train/donuts'.\n",
            "There are 0 directories and 75 images in '101_food_classes_10_percent/train/hot_dog'.\n",
            "There are 0 directories and 75 images in '101_food_classes_10_percent/train/french_fries'.\n",
            "There are 0 directories and 75 images in '101_food_classes_10_percent/train/beef_tartare'.\n",
            "There are 0 directories and 75 images in '101_food_classes_10_percent/train/huevos_rancheros'.\n",
            "There are 0 directories and 75 images in '101_food_classes_10_percent/train/clam_chowder'.\n",
            "There are 0 directories and 75 images in '101_food_classes_10_percent/train/macaroni_and_cheese'.\n",
            "There are 0 directories and 75 images in '101_food_classes_10_percent/train/panna_cotta'.\n",
            "There are 0 directories and 75 images in '101_food_classes_10_percent/train/lasagna'.\n",
            "There are 0 directories and 75 images in '101_food_classes_10_percent/train/ice_cream'.\n"
          ]
        }
      ]
    },
    {
      "cell_type": "code",
      "source": [
        "# Setup data inputs\n",
        "import tensorflow as tf\n",
        "IMG_SIZE = (224, 224)\n",
        "train_data_all_10_percent = tf.keras.preprocessing.image_dataset_from_directory(train_dir,\n",
        "                                                                                label_mode=\"categorical\",\n",
        "                                                                                image_size=IMG_SIZE)\n",
        "test_data = tf.keras.preprocessing.image_dataset_from_directory(test_dir,\n",
        "                                                                label_mode=\"categorical\",\n",
        "                                                                image_size=IMG_SIZE,\n",
        "                                                                shuffle=False) # don't shuffle test data for prediction analysis"
      ],
      "metadata": {
        "id": "9DeZ0QDlTNzW",
        "colab": {
          "base_uri": "https://localhost:8080/"
        },
        "outputId": "ffc75e96-42aa-47bb-9d9e-046cdef87473"
      },
      "execution_count": null,
      "outputs": [
        {
          "output_type": "stream",
          "name": "stdout",
          "text": [
            "Found 7575 files belonging to 101 classes.\n",
            "Found 25250 files belonging to 101 classes.\n"
          ]
        }
      ]
    },
    {
      "cell_type": "markdown",
      "source": [
        "## Train a big dog model with transfer learning on 10% of 101 food classes\n",
        "\n",
        "Here are the steps we're going to take:\n",
        "\n",
        "* Create a ModelCheckpoint callback\n",
        "* Create a data augmentation layer to build data augmentation right into the model\n",
        "* Build a headless (no top layers) Functional EfficientNetB0 backboned-model (we'll create our own output layer)\n",
        "* Compile our model\n",
        "* Feature extract for 5 full passes (5 epochs on the train dataset and validate on 15% of the test data, to save epoch time)"
      ],
      "metadata": {
        "id": "Zb9ZVLtQTQXy"
      }
    },
    {
      "cell_type": "code",
      "source": [
        "# Create checkpoint callback\n",
        "checkpoint_path = \"101_classes_10_percent_data_model_checkpoint\"\n",
        "checkpoint_callback = tf.keras.callbacks.ModelCheckpoint(checkpoint_path,\n",
        "                                                         save_weights_only=True,\n",
        "                                                         monitor=\"val_accuracy\",\n",
        "                                                         save_best_only=True)"
      ],
      "metadata": {
        "id": "NBhNuAfcTXNW"
      },
      "execution_count": null,
      "outputs": []
    },
    {
      "cell_type": "code",
      "source": [
        "#Augmenting Data\n",
        "data_augmentation = tf.keras.Sequential([\n",
        "    tf.keras.layers.RandomRotation(0.2),\n",
        "    tf.keras.layers.RandomZoom(0.2),\n",
        "    tf.keras.layers.RandomWidth(0.2),\n",
        "    tf.keras.layers.RandomHeight(0.2),\n",
        "    #tf.keras.layers.Rescaling(1/255.), # not necessary for effienct net 0\n",
        "    tf.keras.layers.RandomFlip(\"horizontal\")\n",
        "], name=\"data_augmentation_layer\")"
      ],
      "metadata": {
        "id": "y1Xu5Wjg9ZFO"
      },
      "execution_count": null,
      "outputs": []
    },
    {
      "cell_type": "code",
      "source": [
        "#Create a base model with efficient net b0\n",
        "base_model = tf.keras.applications.efficientnet.EfficientNetB0(\n",
        "    include_top=False)\n",
        "base_model.trainable = False"
      ],
      "metadata": {
        "colab": {
          "base_uri": "https://localhost:8080/"
        },
        "id": "xNMV6Yzj-Npw",
        "outputId": "1d9581d2-b23d-4ae6-817f-8b2111caccbd"
      },
      "execution_count": null,
      "outputs": [
        {
          "output_type": "stream",
          "name": "stdout",
          "text": [
            "Downloading data from https://storage.googleapis.com/keras-applications/efficientnetb0_notop.h5\n",
            "16705208/16705208 [==============================] - 1s 0us/step\n"
          ]
        }
      ]
    },
    {
      "cell_type": "code",
      "source": [
        "input_shape = (224, 224, 3)\n",
        "number_of_output_nuerons = len(train_data_all_10_percent.class_names)\n",
        "inputs = tf.keras.layers.Input(shape=input_shape, name=\"input_layer\")\n",
        "\n",
        "x = data_augmentation(inputs)\n",
        "x = base_model(x, training=False)\n",
        "x = tf.keras.layers.GlobalAveragePooling2D(name=\"global_average_polling_2d\")(x)\n",
        "outputs = tf.keras.layers.Dense(number_of_output_nuerons, activation=\"softmax\", name=\"output_layer\")(x)\n",
        "\n",
        "model = tf.keras.Model(inputs, outputs)"
      ],
      "metadata": {
        "id": "vskuHhN_-9rr"
      },
      "execution_count": null,
      "outputs": []
    },
    {
      "cell_type": "code",
      "source": [
        "# Get a summary of model we've created\n",
        "model.summary()"
      ],
      "metadata": {
        "colab": {
          "base_uri": "https://localhost:8080/"
        },
        "id": "1gphOV4hBt34",
        "outputId": "4257eb0a-b9c0-408d-f0bd-55bfaea27544"
      },
      "execution_count": null,
      "outputs": [
        {
          "output_type": "stream",
          "name": "stdout",
          "text": [
            "Model: \"model\"\n",
            "_________________________________________________________________\n",
            " Layer (type)                Output Shape              Param #   \n",
            "=================================================================\n",
            " input_layer (InputLayer)    [(None, 224, 224, 3)]     0         \n",
            "                                                                 \n",
            " data_augmentation_layer (Se  (None, None, None, 3)    0         \n",
            " quential)                                                       \n",
            "                                                                 \n",
            " efficientnetb0 (Functional)  (None, None, None, 1280)  4049571  \n",
            "                                                                 \n",
            " global_average_polling_2d (  (None, 1280)             0         \n",
            " GlobalAveragePooling2D)                                         \n",
            "                                                                 \n",
            " output_layer (Dense)        (None, 101)               129381    \n",
            "                                                                 \n",
            "=================================================================\n",
            "Total params: 4,178,952\n",
            "Trainable params: 129,381\n",
            "Non-trainable params: 4,049,571\n",
            "_________________________________________________________________\n"
          ]
        }
      ]
    },
    {
      "cell_type": "code",
      "source": [
        "model.compile(\n",
        "    loss=tf.keras.losses.CategoricalCrossentropy(),\n",
        "    optimizer=tf.keras.optimizers.Adam(),\n",
        "    metrics=[\"accuracy\"]\n",
        ")\n",
        "\n",
        "history_all_classes_10_percent = model.fit(\n",
        "    train_data_all_10_percent,\n",
        "    epochs=5,\n",
        "    validation_data=test_data,\n",
        "    validation_steps=int(0.15*len(test_data)),\n",
        "    callbacks=[\n",
        "        checkpoint_callback\n",
        "    ]\n",
        ")"
      ],
      "metadata": {
        "colab": {
          "base_uri": "https://localhost:8080/"
        },
        "id": "yuUYb5CYCD9e",
        "outputId": "13a7e6e0-9dc2-4e2d-9845-90e46412c0bc"
      },
      "execution_count": null,
      "outputs": [
        {
          "output_type": "stream",
          "name": "stdout",
          "text": [
            "Epoch 1/5\n",
            "237/237 [==============================] - 74s 236ms/step - loss: 3.3622 - accuracy: 0.2737 - val_loss: 2.4882 - val_accuracy: 0.4735\n",
            "Epoch 2/5\n",
            "237/237 [==============================] - 43s 178ms/step - loss: 2.1910 - accuracy: 0.4989 - val_loss: 2.0151 - val_accuracy: 0.5217\n",
            "Epoch 3/5\n",
            "237/237 [==============================] - 39s 161ms/step - loss: 1.8301 - accuracy: 0.5638 - val_loss: 1.8301 - val_accuracy: 0.5501\n",
            "Epoch 4/5\n",
            "237/237 [==============================] - 38s 159ms/step - loss: 1.6034 - accuracy: 0.6095 - val_loss: 1.7749 - val_accuracy: 0.5485\n",
            "Epoch 5/5\n",
            "237/237 [==============================] - 39s 162ms/step - loss: 1.4559 - accuracy: 0.6418 - val_loss: 1.7723 - val_accuracy: 0.5437\n"
          ]
        }
      ]
    },
    {
      "cell_type": "code",
      "source": [
        "feature_extraction_results = model.evaluate(test_data)\n",
        "feature_extraction_results"
      ],
      "metadata": {
        "colab": {
          "base_uri": "https://localhost:8080/"
        },
        "id": "TVtIzIcuDBjL",
        "outputId": "5bafbc10-e6ca-4f0e-8acf-b7a3c49bce18"
      },
      "execution_count": null,
      "outputs": [
        {
          "output_type": "stream",
          "name": "stdout",
          "text": [
            "790/790 [==============================] - 62s 79ms/step - loss: 1.5896 - accuracy: 0.5829\n"
          ]
        },
        {
          "output_type": "execute_result",
          "data": {
            "text/plain": [
              "[1.5895626544952393, 0.5828911066055298]"
            ]
          },
          "metadata": {},
          "execution_count": 13
        }
      ]
    },
    {
      "cell_type": "code",
      "source": [
        "plot_loss_curves(history_all_classes_10_percent)"
      ],
      "metadata": {
        "colab": {
          "base_uri": "https://localhost:8080/",
          "height": 927
        },
        "id": "1H9KssB4DihN",
        "outputId": "77ee1643-5787-4122-d1e5-c92adffba283"
      },
      "execution_count": null,
      "outputs": [
        {
          "output_type": "display_data",
          "data": {
            "text/plain": [
              "<Figure size 640x480 with 1 Axes>"
            ],
            "image/png": "[encoded data removed]"
          },
          "metadata": {}
        },
        {
          "output_type": "display_data",
          "data": {
            "text/plain": [
              "<Figure size 640x480 with 1 Axes>"
            ],
            "image/png": "[encoded data removed]"
          },
          "metadata": {}
        }
      ]
    },
    {
      "cell_type": "markdown",
      "source": [
        ">** 🤔 Question: **What do these curves suggest? Hint: ideally, the two curves should be very similar to each other, if not it may suggest that our model is overfitting (performing too well on the training data and not generalizing to unseen data)."
      ],
      "metadata": {
        "id": "vnU4YT4UDrnd"
      }
    },
    {
      "cell_type": "markdown",
      "source": [
        "## Fine Tuning"
      ],
      "metadata": {
        "id": "FQVFpk3REg87"
      }
    },
    {
      "cell_type": "code",
      "source": [
        "# Unfreeze all of the layers in the base model\n",
        "base_model.trainable = True\n",
        "\n",
        "# Refreeze every layer except the last 5\n",
        "for layer in base_model.layers[:-5]:\n",
        "  layer.trainable = False"
      ],
      "metadata": {
        "id": "bIzWVceJEzQU"
      },
      "execution_count": null,
      "outputs": []
    },
    {
      "cell_type": "code",
      "source": [
        "# Recompile model with lower learning (it's typically best practice to lower the learning rate when fine-tuning)\n",
        "model.compile(\n",
        "    loss=tf.keras.losses.CategoricalCrossentropy(),\n",
        "    optimizer=tf.keras.optimizers.Adam(learning_rate=0.0001),\n",
        "    metrics=[\"accuracy\"]\n",
        ")"
      ],
      "metadata": {
        "id": "tAS86XUOFTyp"
      },
      "execution_count": null,
      "outputs": []
    },
    {
      "cell_type": "code",
      "source": [
        "# What layers in the model are trainable?\n",
        "for layer in model.layers:\n",
        "  print(layer.name, layer.trainable)"
      ],
      "metadata": {
        "colab": {
          "base_uri": "https://localhost:8080/"
        },
        "id": "fbaSqwWBFFTZ",
        "outputId": "d57c3f1a-5622-445d-cecb-77d776d360fb"
      },
      "execution_count": null,
      "outputs": [
        {
          "output_type": "stream",
          "name": "stdout",
          "text": [
            "input_layer True\n",
            "data_augmentation_layer True\n",
            "efficientnetb0 True\n",
            "global_average_polling_2d True\n",
            "output_layer True\n"
          ]
        }
      ]
    },
    {
      "cell_type": "code",
      "source": [
        "# Check which layers are trainable in our base model\n",
        "for layer_number, layer in enumerate(model.layers[2].layers):\n",
        "  print(layer_number, layer.name, layer.trainable)"
      ],
      "metadata": {
        "colab": {
          "base_uri": "https://localhost:8080/"
        },
        "id": "bceK8eGKGKDr",
        "outputId": "aff077ef-9db5-41e1-9709-90857b8e6915"
      },
      "execution_count": null,
      "outputs": [
        {
          "output_type": "stream",
          "name": "stdout",
          "text": [
            "0 input_1 False\n",
            "1 rescaling False\n",
            "2 normalization False\n",
            "3 rescaling_1 False\n",
            "4 stem_conv_pad False\n",
            "5 stem_conv False\n",
            "6 stem_bn False\n",
            "7 stem_activation False\n",
            "8 block1a_dwconv False\n",
            "9 block1a_bn False\n",
            "10 block1a_activation False\n",
            "11 block1a_se_squeeze False\n",
            "12 block1a_se_reshape False\n",
            "13 block1a_se_reduce False\n",
            "14 block1a_se_expand False\n",
            "15 block1a_se_excite False\n",
            "16 block1a_project_conv False\n",
            "17 block1a_project_bn False\n",
            "18 block2a_expand_conv False\n",
            "19 block2a_expand_bn False\n",
            "20 block2a_expand_activation False\n",
            "21 block2a_dwconv_pad False\n",
            "22 block2a_dwconv False\n",
            "23 block2a_bn False\n",
            "24 block2a_activation False\n",
            "25 block2a_se_squeeze False\n",
            "26 block2a_se_reshape False\n",
            "27 block2a_se_reduce False\n",
            "28 block2a_se_expand False\n",
            "29 block2a_se_excite False\n",
            "30 block2a_project_conv False\n",
            "31 block2a_project_bn False\n",
            "32 block2b_expand_conv False\n",
            "33 block2b_expand_bn False\n",
            "34 block2b_expand_activation False\n",
            "35 block2b_dwconv False\n",
            "36 block2b_bn False\n",
            "37 block2b_activation False\n",
            "38 block2b_se_squeeze False\n",
            "39 block2b_se_reshape False\n",
            "40 block2b_se_reduce False\n",
            "41 block2b_se_expand False\n",
            "42 block2b_se_excite False\n",
            "43 block2b_project_conv False\n",
            "44 block2b_project_bn False\n",
            "45 block2b_drop False\n",
            "46 block2b_add False\n",
            "47 block3a_expand_conv False\n",
            "48 block3a_expand_bn False\n",
            "49 block3a_expand_activation False\n",
            "50 block3a_dwconv_pad False\n",
            "51 block3a_dwconv False\n",
            "52 block3a_bn False\n",
            "53 block3a_activation False\n",
            "54 block3a_se_squeeze False\n",
            "55 block3a_se_reshape False\n",
            "56 block3a_se_reduce False\n",
            "57 block3a_se_expand False\n",
            "58 block3a_se_excite False\n",
            "59 block3a_project_conv False\n",
            "60 block3a_project_bn False\n",
            "61 block3b_expand_conv False\n",
            "62 block3b_expand_bn False\n",
            "63 block3b_expand_activation False\n",
            "64 block3b_dwconv False\n",
            "65 block3b_bn False\n",
            "66 block3b_activation False\n",
            "67 block3b_se_squeeze False\n",
            "68 block3b_se_reshape False\n",
            "69 block3b_se_reduce False\n",
            "70 block3b_se_expand False\n",
            "71 block3b_se_excite False\n",
            "72 block3b_project_conv False\n",
            "73 block3b_project_bn False\n",
            "74 block3b_drop False\n",
            "75 block3b_add False\n",
            "76 block4a_expand_conv False\n",
            "77 block4a_expand_bn False\n",
            "78 block4a_expand_activation False\n",
            "79 block4a_dwconv_pad False\n",
            "80 block4a_dwconv False\n",
            "81 block4a_bn False\n",
            "82 block4a_activation False\n",
            "83 block4a_se_squeeze False\n",
            "84 block4a_se_reshape False\n",
            "85 block4a_se_reduce False\n",
            "86 block4a_se_expand False\n",
            "87 block4a_se_excite False\n",
            "88 block4a_project_conv False\n",
            "89 block4a_project_bn False\n",
            "90 block4b_expand_conv False\n",
            "91 block4b_expand_bn False\n",
            "92 block4b_expand_activation False\n",
            "93 block4b_dwconv False\n",
            "94 block4b_bn False\n",
            "95 block4b_activation False\n",
            "96 block4b_se_squeeze False\n",
            "97 block4b_se_reshape False\n",
            "98 block4b_se_reduce False\n",
            "99 block4b_se_expand False\n",
            "100 block4b_se_excite False\n",
            "101 block4b_project_conv False\n",
            "102 block4b_project_bn False\n",
            "103 block4b_drop False\n",
            "104 block4b_add False\n",
            "105 block4c_expand_conv False\n",
            "106 block4c_expand_bn False\n",
            "107 block4c_expand_activation False\n",
            "108 block4c_dwconv False\n",
            "109 block4c_bn False\n",
            "110 block4c_activation False\n",
            "111 block4c_se_squeeze False\n",
            "112 block4c_se_reshape False\n",
            "113 block4c_se_reduce False\n",
            "114 block4c_se_expand False\n",
            "115 block4c_se_excite False\n",
            "116 block4c_project_conv False\n",
            "117 block4c_project_bn False\n",
            "118 block4c_drop False\n",
            "119 block4c_add False\n",
            "120 block5a_expand_conv False\n",
            "121 block5a_expand_bn False\n",
            "122 block5a_expand_activation False\n",
            "123 block5a_dwconv False\n",
            "124 block5a_bn False\n",
            "125 block5a_activation False\n",
            "126 block5a_se_squeeze False\n",
            "127 block5a_se_reshape False\n",
            "128 block5a_se_reduce False\n",
            "129 block5a_se_expand False\n",
            "130 block5a_se_excite False\n",
            "131 block5a_project_conv False\n",
            "132 block5a_project_bn False\n",
            "133 block5b_expand_conv False\n",
            "134 block5b_expand_bn False\n",
            "135 block5b_expand_activation False\n",
            "136 block5b_dwconv False\n",
            "137 block5b_bn False\n",
            "138 block5b_activation False\n",
            "139 block5b_se_squeeze False\n",
            "140 block5b_se_reshape False\n",
            "141 block5b_se_reduce False\n",
            "142 block5b_se_expand False\n",
            "143 block5b_se_excite False\n",
            "144 block5b_project_conv False\n",
            "145 block5b_project_bn False\n",
            "146 block5b_drop False\n",
            "147 block5b_add False\n",
            "148 block5c_expand_conv False\n",
            "149 block5c_expand_bn False\n",
            "150 block5c_expand_activation False\n",
            "151 block5c_dwconv False\n",
            "152 block5c_bn False\n",
            "153 block5c_activation False\n",
            "154 block5c_se_squeeze False\n",
            "155 block5c_se_reshape False\n",
            "156 block5c_se_reduce False\n",
            "157 block5c_se_expand False\n",
            "158 block5c_se_excite False\n",
            "159 block5c_project_conv False\n",
            "160 block5c_project_bn False\n",
            "161 block5c_drop False\n",
            "162 block5c_add False\n",
            "163 block6a_expand_conv False\n",
            "164 block6a_expand_bn False\n",
            "165 block6a_expand_activation False\n",
            "166 block6a_dwconv_pad False\n",
            "167 block6a_dwconv False\n",
            "168 block6a_bn False\n",
            "169 block6a_activation False\n",
            "170 block6a_se_squeeze False\n",
            "171 block6a_se_reshape False\n",
            "172 block6a_se_reduce False\n",
            "173 block6a_se_expand False\n",
            "174 block6a_se_excite False\n",
            "175 block6a_project_conv False\n",
            "176 block6a_project_bn False\n",
            "177 block6b_expand_conv False\n",
            "178 block6b_expand_bn False\n",
            "179 block6b_expand_activation False\n",
            "180 block6b_dwconv False\n",
            "181 block6b_bn False\n",
            "182 block6b_activation False\n",
            "183 block6b_se_squeeze False\n",
            "184 block6b_se_reshape False\n",
            "185 block6b_se_reduce False\n",
            "186 block6b_se_expand False\n",
            "187 block6b_se_excite False\n",
            "188 block6b_project_conv False\n",
            "189 block6b_project_bn False\n",
            "190 block6b_drop False\n",
            "191 block6b_add False\n",
            "192 block6c_expand_conv False\n",
            "193 block6c_expand_bn False\n",
            "194 block6c_expand_activation False\n",
            "195 block6c_dwconv False\n",
            "196 block6c_bn False\n",
            "197 block6c_activation False\n",
            "198 block6c_se_squeeze False\n",
            "199 block6c_se_reshape False\n",
            "200 block6c_se_reduce False\n",
            "201 block6c_se_expand False\n",
            "202 block6c_se_excite False\n",
            "203 block6c_project_conv False\n",
            "204 block6c_project_bn False\n",
            "205 block6c_drop False\n",
            "206 block6c_add False\n",
            "207 block6d_expand_conv False\n",
            "208 block6d_expand_bn False\n",
            "209 block6d_expand_activation False\n",
            "210 block6d_dwconv False\n",
            "211 block6d_bn False\n",
            "212 block6d_activation False\n",
            "213 block6d_se_squeeze False\n",
            "214 block6d_se_reshape False\n",
            "215 block6d_se_reduce False\n",
            "216 block6d_se_expand False\n",
            "217 block6d_se_excite False\n",
            "218 block6d_project_conv False\n",
            "219 block6d_project_bn False\n",
            "220 block6d_drop False\n",
            "221 block6d_add False\n",
            "222 block7a_expand_conv False\n",
            "223 block7a_expand_bn False\n",
            "224 block7a_expand_activation False\n",
            "225 block7a_dwconv False\n",
            "226 block7a_bn False\n",
            "227 block7a_activation False\n",
            "228 block7a_se_squeeze False\n",
            "229 block7a_se_reshape False\n",
            "230 block7a_se_reduce False\n",
            "231 block7a_se_expand False\n",
            "232 block7a_se_excite False\n",
            "233 block7a_project_conv True\n",
            "234 block7a_project_bn True\n",
            "235 top_conv True\n",
            "236 top_bn True\n",
            "237 top_activation True\n"
          ]
        }
      ]
    },
    {
      "cell_type": "code",
      "source": [
        "# Fine-tune for 5 more epochs\n",
        "fine_tune_epochs = 10 # model has already done 5 epochs (feature extraction), this is the total number of epochs we're after (5 + 5 = 10)\n",
        "\n",
        "# Fine-tune our model\n",
        "history_all_classes_10_percent_fine_tune = model.fit(train_data_all_10_percent,\n",
        "                                                     epochs=fine_tune_epochs,\n",
        "                                                     validation_data=test_data,\n",
        "                                                     validation_steps=int(0.15 * len(test_data)),\n",
        "                                                     initial_epoch=history_all_classes_10_percent.epoch[-1])"
      ],
      "metadata": {
        "colab": {
          "base_uri": "https://localhost:8080/"
        },
        "id": "uIGC7WTBG84f",
        "outputId": "ceb1bdd5-4704-4c76-dfdd-25aae2e506b3"
      },
      "execution_count": null,
      "outputs": [
        {
          "output_type": "stream",
          "name": "stdout",
          "text": [
            "Epoch 5/10\n",
            "237/237 [==============================] - 48s 155ms/step - loss: 1.2061 - accuracy: 0.6818 - val_loss: 1.7112 - val_accuracy: 0.5588\n",
            "Epoch 6/10\n",
            "237/237 [==============================] - 33s 138ms/step - loss: 1.0901 - accuracy: 0.7097 - val_loss: 1.7042 - val_accuracy: 0.5572\n",
            "Epoch 7/10\n",
            "237/237 [==============================] - 33s 139ms/step - loss: 1.0003 - accuracy: 0.7358 - val_loss: 1.7192 - val_accuracy: 0.5553\n",
            "Epoch 8/10\n",
            "237/237 [==============================] - 34s 142ms/step - loss: 0.9443 - accuracy: 0.7502 - val_loss: 1.7079 - val_accuracy: 0.5575\n",
            "Epoch 9/10\n",
            "237/237 [==============================] - 33s 138ms/step - loss: 0.8783 - accuracy: 0.7641 - val_loss: 1.6898 - val_accuracy: 0.5612\n",
            "Epoch 10/10\n",
            "237/237 [==============================] - 31s 129ms/step - loss: 0.8373 - accuracy: 0.7795 - val_loss: 1.7078 - val_accuracy: 0.5625\n"
          ]
        }
      ]
    },
    {
      "cell_type": "code",
      "source": [
        "# Evaluate on the whole test dataset\n",
        "all_classes_10_percent_fine_tune_results = model.evaluate(test_data)\n",
        "all_classes_10_percent_fine_tune_results"
      ],
      "metadata": {
        "colab": {
          "base_uri": "https://localhost:8080/"
        },
        "id": "Kr_DxPqJHB2C",
        "outputId": "b7870375-b535-4bf1-d38d-453a20d0fed2"
      },
      "execution_count": null,
      "outputs": [
        {
          "output_type": "stream",
          "name": "stdout",
          "text": [
            "790/790 [==============================] - 74s 94ms/step - loss: 1.5157 - accuracy: 0.5996\n"
          ]
        },
        {
          "output_type": "execute_result",
          "data": {
            "text/plain": [
              "[1.5156961679458618, 0.5996435880661011]"
            ]
          },
          "metadata": {},
          "execution_count": 20
        }
      ]
    },
    {
      "cell_type": "code",
      "source": [
        "# Compare the histories of feature extraction model with fine-tuning model\n",
        "compare_historys(original_history=history_all_classes_10_percent,\n",
        "                 new_history=history_all_classes_10_percent_fine_tune,\n",
        "                 initial_epochs=5)"
      ],
      "metadata": {
        "colab": {
          "base_uri": "https://localhost:8080/",
          "height": 718
        },
        "id": "DG57SNT6HEQS",
        "outputId": "96fc5afc-2011-4804-c05a-55522171523e"
      },
      "execution_count": null,
      "outputs": [
        {
          "output_type": "display_data",
          "data": {
            "text/plain": [
              "<Figure size 800x800 with 2 Axes>"
            ],
            "image/png": "[encoded data removed]"
          },
          "metadata": {}
        }
      ]
    },
    {
      "cell_type": "markdown",
      "source": [
        "transfer learning"
      ],
      "metadata": {
        "id": "o3Rbo-9mcT6q"
      }
    }
  ]
}